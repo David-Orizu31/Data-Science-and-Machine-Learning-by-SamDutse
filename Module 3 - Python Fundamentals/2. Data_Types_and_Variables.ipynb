{
 "cells": [
  {
   "cell_type": "markdown",
   "id": "d8f88cb8",
   "metadata": {},
   "source": [
    "# **Data Types and Variables**"
   ]
  },
  {
   "cell_type": "markdown",
   "id": "560c80c6",
   "metadata": {},
   "source": [
    "## **1. What are Data Types?**\n",
    "Data types define the kind of data a variable can hold in Python. Understanding data types is crucial for efficient programming and problem-solving in data science.\n",
    "\n",
    "**Basic Data Types in Python:**\n",
    "- **int**: Integer (e.g., 5, -2)\n",
    "- **float**: Floating-point number (e.g., 3.14, -0.5)\n",
    "- **str**: String (e.g., 'Hello', \"World\")\n",
    "- **bool**: Boolean (e.g., True, False)\n",
    "- **NoneType**: Represents the absence of a value (e.g., None)"
   ]
  },
  {
   "cell_type": "markdown",
   "id": "9c19624d",
   "metadata": {},
   "source": [
    "## **2. Variables in Python**\n",
    "A variable is a named location in memory that stores data. Variables are essential in programming because they allow us to store, modify, and use data in our code.\n",
    "\n",
    "**How to Create a Variable:**\n",
    "- Use the assignment operator `=` to assign a value to a variable.\n",
    "- Variable names should be meaningful and follow naming conventions (e.g., `total_sales`, `age`).\n",
    "\n",
    "**Example:**\n",
    "```python\n",
    "x = 10  # An integer\n",
    "pi = 3.14  # A float\n",
    "name = 'John'  # A string\n",
    "is_active = True  # A boolean\n",
    "```"
   ]
  },
  {
   "cell_type": "code",
   "execution_count": null,
   "id": "c1ce49ff",
   "metadata": {},
   "outputs": [],
   "source": [
    "# Example: Creating Variables\n",
    "x = 10  # Integer\n",
    "pi = 3.14  # Float\n",
    "name = 'John'  # String\n",
    "is_active = True  # Boolean\n",
    "\n",
    "# Print variables\n",
    "print('Integer:', x)\n",
    "print('Float:', pi)\n",
    "print('String:', name)\n",
    "print('Boolean:', is_active)"
   ]
  },
  {
   "cell_type": "markdown",
   "id": "77446faa",
   "metadata": {},
   "source": [
    "## **3. Type Checking and Type Conversion**\n",
    "**Type Checking:**\n",
    "- Use the `type()` function to check the data type of a variable.\n",
    "\n",
    "**Example:**\n",
    "```python\n",
    "x = 10\n",
    "print(type(x))  # Output: <class 'int'>\n",
    "```\n",
    "\n",
    "**Type Conversion:**\n",
    "- Convert a variable from one data type to another using type conversion functions like `int()`, `float()`, `str()`, etc.\n",
    "\n",
    "**Example:**\n",
    "```python\n",
    "x = 5.5\n",
    "y = int(x)  # Convert float to int\n",
    "print(y)  # Output: 5\n",
    "```"
   ]
  },
  {
   "cell_type": "code",
   "execution_count": null,
   "id": "074f6fe3",
   "metadata": {},
   "outputs": [],
   "source": [
    "# Example: Type Checking and Conversion\n",
    "x = 5.5\n",
    "print('Original Type:', type(x))\n",
    "\n",
    "# Convert float to int\n",
    "y = int(x)\n",
    "print('Converted Type:', type(y))\n",
    "print('Value:', y)"
   ]
  },
  {
   "cell_type": "markdown",
   "id": "b8199595",
   "metadata": {},
   "source": [
    "## **4. Common Operations with Variables**\n",
    "- Arithmetic Operations: `+`, `-`, `*`, `/`, `%`, `**` (exponentiation)\n",
    "- String Operations: Concatenation (`+`), Repetition (`*`)\n",
    "- Boolean Operations: `and`, `or`, `not`\n",
    "\n",
    "**Example:**\n",
    "```python\n",
    "a = 10\n",
    "b = 3\n",
    "print(a + b)  # Addition\n",
    "print(a ** b)  # Exponentiation\n",
    "\n",
    "name = 'Data'\n",
    "print(name + ' Science')  # Concatenation\n",
    "```"
   ]
  },
  {
   "cell_type": "code",
   "execution_count": null,
   "id": "6ddd0f1a",
   "metadata": {},
   "outputs": [],
   "source": [
    "# Example: Common Operations\n",
    "a = 10\n",
    "b = 3\n",
    "\n",
    "# Arithmetic Operations\n",
    "print('Addition:', a + b)\n",
    "print('Exponentiation:', a ** b)\n",
    "\n",
    "# String Operations\n",
    "name = 'Data'\n",
    "print('Concatenation:', name + ' Science')\n",
    "print('Repetition:', name * 3)"
   ]
  },
  {
   "cell_type": "markdown",
   "id": "dc3a816d",
   "metadata": {},
   "source": [
    "## **5. Exercises for Practice**\n",
    "### **Exercise 1: Create and Print Variables**\n",
    "- Create variables of type `int`, `float`, `str`, and `bool`.\n",
    "- Print their values and data types.\n",
    "\n",
    "### **Exercise 2: Perform Type Conversion**\n",
    "- Convert a `float` to an `int` and a `str` to an `int` (if possible).\n",
    "\n",
    "### **Exercise 3: Use Arithmetic Operations**\n",
    "- Create two variables and perform all arithmetic operations on them.\n",
    "\n",
    "### **Exercise 4: Work with Strings**\n",
    "- Create a string variable and use concatenation and repetition."
   ]
  },
  {
   "cell_type": "code",
   "execution_count": null,
   "id": "adb9a7e4",
   "metadata": {},
   "outputs": [],
   "source": [
    "# Exercise 1: Create and Print Variables\n",
    "# Your Code Here\n"
   ]
  },
  {
   "cell_type": "code",
   "execution_count": null,
   "id": "43a69799",
   "metadata": {},
   "outputs": [],
   "source": [
    "# Exercise 2: Perform Type Conversion\n",
    "# Your Code Here\n"
   ]
  },
  {
   "cell_type": "code",
   "execution_count": null,
   "id": "e1b7e34c",
   "metadata": {},
   "outputs": [],
   "source": [
    "# Exercise 3: Use Arithmetic Operations\n",
    "# Your Code Here\n"
   ]
  },
  {
   "cell_type": "code",
   "execution_count": null,
   "id": "ede6149c",
   "metadata": {},
   "outputs": [],
   "source": [
    "# Exercise 4: Work with Strings\n",
    "# Your Code Here\n"
   ]
  },
  {
   "cell_type": "markdown",
   "id": "bd2e77c8",
   "metadata": {},
   "source": [
    "### **Summary:**\n",
    "- Variables store data, and their data type determines the operations you can perform on them.\n",
    "- Use type checking (`type()`) to verify the data type of a variable.\n",
    "- Convert between data types as needed using type conversion functions like `int()`, `float()`, and `str()`.\n",
    "- Practice basic operations to build a strong foundation for data science tasks."
   ]
  }
 ],
 "metadata": {
  "language_info": {
   "name": "python"
  }
 },
 "nbformat": 4,
 "nbformat_minor": 5
}
