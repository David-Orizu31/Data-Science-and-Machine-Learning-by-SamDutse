{
 "cells": [
  {
   "cell_type": "markdown",
   "id": "ae155c80",
   "metadata": {},
   "source": [
    "# **Basic Operations: Arithmetic, Comparison, and Logical Operators**"
   ]
  },
  {
   "cell_type": "markdown",
   "id": "572a45c5",
   "metadata": {},
   "source": [
    "## **1. Arithmetic Operators**\n",
    "Arithmetic operators are used to perform mathematical operations on numbers. They are:\n",
    "- `+` (Addition)\n",
    "- `-` (Subtraction)\n",
    "- `*` (Multiplication)\n",
    "- `/` (Division)\n",
    "- `%` (Modulus - remainder of division)\n",
    "- `**` (Exponentiation)\n",
    "- `//` (Floor Division - division that truncates the decimal part)\n",
    "\n",
    "**Example:**\n",
    "```python\n",
    "a = 10\n",
    "b = 3\n",
    "print(a + b)  # Addition\n",
    "print(a ** b)  # Exponentiation\n",
    "```"
   ]
  },
  {
   "cell_type": "code",
   "execution_count": null,
   "id": "e39cbe36",
   "metadata": {},
   "outputs": [],
   "source": [
    "# Example: Arithmetic Operations\n",
    "a = 10\n",
    "b = 3\n",
    "\n",
    "# Perform various operations\n",
    "print('Addition:', a + b)\n",
    "print('Subtraction:', a - b)\n",
    "print('Multiplication:', a * b)\n",
    "print('Division:', a / b)\n",
    "print('Modulus:', a % b)\n",
    "print('Exponentiation:', a ** b)\n",
    "print('Floor Division:', a // b)"
   ]
  },
  {
   "cell_type": "markdown",
   "id": "64b100b4",
   "metadata": {},
   "source": [
    "### **Use Case in Data Science**\n",
    "- **Addition/Multiplication**: Calculating total sales or revenue.\n",
    "- **Division**: Calculating average metrics (e.g., average sales).\n",
    "- **Exponentiation**: Applying mathematical models like exponential growth.\n",
    "- **Modulus**: Identifying odd/even numbers or cycle-based tasks."
   ]
  },
  {
   "cell_type": "markdown",
   "id": "f51f564c",
   "metadata": {},
   "source": [
    "## **2. Comparison Operators**\n",
    "Comparison operators compare two values and return a boolean (`True` or `False`). They are:\n",
    "- `==` (Equal to)\n",
    "- `!=` (Not equal to)\n",
    "- `>` (Greater than)\n",
    "- `<` (Less than)\n",
    "- `>=` (Greater than or equal to)\n",
    "- `<=` (Less than or equal to)\n",
    "\n",
    "**Example:**\n",
    "```python\n",
    "x = 5\n",
    "y = 10\n",
    "print(x > y)  # False\n",
    "print(x != y)  # True\n",
    "```"
   ]
  },
  {
   "cell_type": "code",
   "execution_count": null,
   "id": "0242797d",
   "metadata": {},
   "outputs": [],
   "source": [
    "# Example: Comparison Operations\n",
    "x = 5\n",
    "y = 10\n",
    "\n",
    "# Perform comparisons\n",
    "print('x == y:', x == y)\n",
    "print('x != y:', x != y)\n",
    "print('x > y:', x > y)\n",
    "print('x < y:', x < y)\n",
    "print('x >= y:', x >= y)\n",
    "print('x <= y:', x <= y)"
   ]
  },
  {
   "cell_type": "markdown",
   "id": "ff8131ff",
   "metadata": {},
   "source": [
    "### **Use Case in Data Science**\n",
    "- **Filtering Data**: Filtering rows in a dataset (e.g., select rows where age > 30).\n",
    "- **Validation**: Checking conditions like `model_accuracy >= threshold`.\n",
    "- **Ranking/Comparison**: Comparing features for selection or ranking."
   ]
  },
  {
   "cell_type": "markdown",
   "id": "1c66032e",
   "metadata": {},
   "source": [
    "## **3. Logical Operators**\n",
    "Logical operators combine multiple boolean expressions and return a boolean result. They are:\n",
    "- `and`: Returns `True` if both conditions are true.\n",
    "- `or`: Returns `True` if at least one condition is true.\n",
    "- `not`: Returns `True` if the condition is false.\n",
    "\n",
    "**Example:**\n",
    "```python\n",
    "x = 10\n",
    "print(x > 5 and x < 15)  # True\n",
    "print(x > 5 or x < 5)  # True\n",
    "print(not (x > 5))  # False\n",
    "```"
   ]
  },
  {
   "cell_type": "code",
   "execution_count": null,
   "id": "369dc307",
   "metadata": {},
   "outputs": [],
   "source": [
    "# Example: Logical Operations\n",
    "x = 10\n",
    "\n",
    "# Perform logical operations\n",
    "print('x > 5 and x < 15:', x > 5 and x < 15)\n",
    "print('x > 5 or x < 5:', x > 5 or x < 5)\n",
    "print('not (x > 5):', not (x > 5))"
   ]
  },
  {
   "cell_type": "markdown",
   "id": "2435f48f",
   "metadata": {},
   "source": [
    "### **Use Case in Data Science**\n",
    "- **Filtering Complex Conditions**: Select rows meeting multiple conditions (e.g., age > 30 and income > 50000).\n",
    "- **Decision Making**: Used in if-statements for model logic or algorithm flow.\n",
    "- **Boolean Masks**: Creating masks for data selection in libraries like NumPy and Pandas."
   ]
  },
  {
   "cell_type": "markdown",
   "id": "74e98008",
   "metadata": {},
   "source": [
    "## **4. Exercises for Practice**\n",
    "### **Exercise 1: Arithmetic Operators**\n",
    "- Create two variables and perform all arithmetic operations on them.\n",
    "\n",
    "### **Exercise 2: Comparison Operators**\n",
    "- Compare two variables using all comparison operators and print the results.\n",
    "\n",
    "### **Exercise 3: Logical Operators**\n",
    "- Combine comparison operators using logical operators and print the results.\n",
    "\n",
    "### **Exercise 4: Use Case in Data Science**\n",
    "- Write a condition using logical operators to filter a dataset (mock data can be used)."
   ]
  },
  {
   "cell_type": "code",
   "execution_count": null,
   "id": "ea9177c4",
   "metadata": {},
   "outputs": [],
   "source": [
    "# Exercise 1: Arithmetic Operators\n",
    "# Your Code Here\n"
   ]
  },
  {
   "cell_type": "code",
   "execution_count": null,
   "id": "70f57562",
   "metadata": {},
   "outputs": [],
   "source": [
    "# Exercise 2: Comparison Operators\n",
    "# Your Code Here\n"
   ]
  },
  {
   "cell_type": "code",
   "execution_count": null,
   "id": "04a78da7",
   "metadata": {},
   "outputs": [],
   "source": [
    "# Exercise 3: Logical Operators\n",
    "# Your Code Here\n"
   ]
  },
  {
   "cell_type": "code",
   "execution_count": null,
   "id": "d7c9ce12",
   "metadata": {},
   "outputs": [],
   "source": [
    "# Exercise 4: Use Case in Data Science\n",
    "# Example Mock Data:\n",
    "age = 35\n",
    "income = 60000\n",
    "\n",
    "# Your Code Here\n"
   ]
  },
  {
   "cell_type": "markdown",
   "id": "fcbea81c",
   "metadata": {},
   "source": [
    "### **Summary:**\n",
    "- Arithmetic operators perform mathematical calculations essential in data analysis.\n",
    "- Comparison operators are used to validate and filter data.\n",
    "- Logical operators combine conditions for complex filtering and decision-making.\n",
    "- Practice combining these operations to strengthen your foundation for advanced data science tasks."
   ]
  }
 ],
 "metadata": {
  "language_info": {
   "name": "python"
  }
 },
 "nbformat": 4,
 "nbformat_minor": 5
}
