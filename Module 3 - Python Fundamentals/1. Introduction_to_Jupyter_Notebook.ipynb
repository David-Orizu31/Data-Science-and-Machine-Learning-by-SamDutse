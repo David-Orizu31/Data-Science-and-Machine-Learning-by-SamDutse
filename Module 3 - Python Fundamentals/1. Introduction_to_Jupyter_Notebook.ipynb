{
 "cells": [
  {
   "cell_type": "markdown",
   "id": "9902a4c2",
   "metadata": {},
   "source": [
    "# **Introduction to Jupyter Notebook**"
   ]
  },
  {
   "cell_type": "markdown",
   "id": "837072c9",
   "metadata": {},
   "source": [
    "## **1. What is Jupyter Notebook?**\n",
    "Jupyter Notebook is an open-source, interactive web application that allows you to create and share documents containing live code, equations, visualizations, and narrative text.\n",
    "\n",
    "**Key Features:**\n",
    "- Write and execute Python code interactively.\n",
    "- Document workflows with markdown and visualizations.\n",
    "- Highly used in data science, machine learning, and scientific research.\n",
    "\n",
    "It is part of the Jupyter Project and supports many programming languages, but Python is the most commonly used."
   ]
  },
  {
   "cell_type": "markdown",
   "id": "e0c1d5d9",
   "metadata": {},
   "source": [
    "## **2. Installing and Launching Jupyter Notebook**\n",
    "**Step 1: Install Jupyter Notebook**\n",
    "\n",
    "You can install Jupyter Notebook using pip:\n",
    "```bash\n",
    "pip install notebook\n",
    "```\n",
    "\n",
    "Alternatively, if you are using Anaconda, it is pre-installed.\n",
    "\n",
    "**Step 2: Launch Jupyter Notebook**\n",
    "\n",
    "- Open your terminal (Command Prompt, Anaconda Prompt, or any terminal).\n",
    "- Run the command:\n",
    "```bash\n",
    "jupyter notebook\n",
    "```\n",
    "\n",
    "This will open the Jupyter Notebook interface in your default web browser."
   ]
  },
  {
   "cell_type": "markdown",
   "id": "1c815bdd",
   "metadata": {},
   "source": [
    "## **3. Navigating the Interface**\n",
    "**Key Components of the Interface:**\n",
    "- **Notebook Panel**: Displays your files and folders.\n",
    "- **Code Cells**: For writing and executing Python code.\n",
    "- **Markdown Cells**: For writing explanations, headers, or documentation.\n",
    "- **Kernel**: The engine that runs the code. You can restart or interrupt it as needed.\n",
    "\n",
    "**Actions to Practice:**\n",
    "- Add a new cell: Press `B` (below the current cell) or `A` (above the current cell).\n",
    "- Run a cell: Press `Shift + Enter`.\n",
    "- Change cell type to Markdown: Press `M`.\n",
    "- Change cell type to Code: Press `Y`."
   ]
  },
  {
   "cell_type": "markdown",
   "id": "029ed2d5",
   "metadata": {},
   "source": [
    "## **4. Writing and Running Code**\n",
    "Write Python code inside a Code Cell and run it using `Shift + Enter`.\n",
    "\n",
    "**Example Code:**\n",
    "```python\n",
    "# Add two numbers\n",
    "a = 5\n",
    "b = 10\n",
    "print('The sum is:', a + b)\n",
    "```\n",
    "\n",
    "Try modifying the code and rerunning the cell!"
   ]
  },
  {
   "cell_type": "code",
   "execution_count": null,
   "id": "6d01b1d0",
   "metadata": {},
   "outputs": [],
   "source": [
    "# Example Code\n",
    "# Add two numbers\n",
    "a = 5\n",
    "b = 10\n",
    "print('The sum is:', a + b)"
   ]
  },
  {
   "cell_type": "markdown",
   "id": "5b7b4f9f",
   "metadata": {},
   "source": [
    "## **5. Saving and Exporting Notebooks**\n",
    "- To save your work, click the save icon or press `Ctrl + S`.\n",
    "- Export your notebook:\n",
    "  1. Go to **File > Download as**.\n",
    "  2. Choose a format (e.g., HTML, PDF, or Python script).\n",
    "\n",
    "Exporting is useful for sharing or presenting your work outside Jupyter Notebook."
   ]
  },
  {
   "cell_type": "markdown",
   "id": "8d586ee0",
   "metadata": {},
   "source": [
    "## **6. Shortcuts and Tricks**\n",
    "Shortcuts make working in Jupyter Notebook faster and easier:\n",
    "\n",
    "- **Run a cell**: `Shift + Enter`\n",
    "- **Add a cell below**: `B`\n",
    "- **Add a cell above**: `A`\n",
    "- **Convert to Markdown**: `M`\n",
    "- **Convert to Code**: `Y`\n",
    "- **Save Notebook**: `Ctrl + S`\n",
    "\n",
    "**Pro Tip:** You can find a full list of shortcuts by pressing `H` in Command Mode."
   ]
  }
 ],
 "metadata": {
  "language_info": {
   "name": "python"
  }
 },
 "nbformat": 4,
 "nbformat_minor": 5
}
