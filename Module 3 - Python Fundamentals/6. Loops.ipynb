{
 "cells": [
  {
   "cell_type": "markdown",
   "id": "2a734944",
   "metadata": {},
   "source": [
    "# Loops: for Loop and while Loop\n",
    "\n",
    "---\n",
    "\n",
    "## Introduction\n",
    "Loops are a core concept in programming, allowing repetitive execution of code blocks. In Python, the two primary loop structures are:\n",
    "\n",
    "- **for loop**\n",
    "- **while loop**\n",
    "\n",
    "In this module, we will learn how to use these loops, explore their applications in data science, and practice exercises to solidify understanding.\n"
   ]
  },
  {
   "cell_type": "markdown",
   "id": "be51dfa8",
   "metadata": {},
   "source": [
    "## for Loop\n",
    "\n",
    "### Overview\n",
    "- The **for loop** is used to iterate over a sequence (e.g., a list, tuple, or string).\n",
    "\n",
    "### Example"
   ]
  },
  {
   "cell_type": "code",
   "execution_count": null,
   "id": "f091cd4f",
   "metadata": {},
   "outputs": [],
   "source": [
    "# Example: Iterating over a list\n",
    "numbers = [1, 2, 3, 4, 5]\n",
    "for number in numbers:\n",
    "    print(number)"
   ]
  },
  {
   "cell_type": "markdown",
   "id": "33307766",
   "metadata": {},
   "source": [
    "### Use Case in Data Science\n",
    "**Iterating over datasets or performing operations on collections of data**, e.g., preprocessing data in a list or array.\n",
    "\n",
    "#### Example Use Case"
   ]
  },
  {
   "cell_type": "code",
   "execution_count": null,
   "id": "ff95e14d",
   "metadata": {},
   "outputs": [],
   "source": [
    "# Example: Preprocessing a list of numbers\n",
    "values = [10, 20, 30, 40]\n",
    "squared_values = []\n",
    "for value in values:\n",
    "    squared_values.append(value ** 2)\n",
    "print(squared_values)"
   ]
  },
  {
   "cell_type": "markdown",
   "id": "698098f0",
   "metadata": {},
   "source": [
    "### Exercise\n",
    "1. Write a program to iterate over a list of names and print each name in uppercase.\n",
    "2. Create a list of numbers and calculate their factorial using a **for** loop.\n"
   ]
  },
  {
   "cell_type": "markdown",
   "id": "33b6d9d9",
   "metadata": {},
   "source": [
    "## while Loop\n",
    "\n",
    "### Overview\n",
    "- The **while loop** is used to execute a block of code as long as a specified condition is true.\n",
    "\n",
    "### Example"
   ]
  },
  {
   "cell_type": "code",
   "execution_count": null,
   "id": "f6467082",
   "metadata": {},
   "outputs": [],
   "source": [
    "# Example: Counting down\n",
    "count = 5\n",
    "while count > 0:\n",
    "    print(count)\n",
    "    count -= 1"
   ]
  },
  {
   "cell_type": "markdown",
   "id": "95edf4a7",
   "metadata": {},
   "source": [
    "### Use Case in Data Science\n",
    "**Performing iterative tasks with unknown or dynamic stopping conditions**, e.g., training a machine learning model until convergence.\n",
    "\n",
    "#### Example Use Case"
   ]
  },
  {
   "cell_type": "code",
   "execution_count": null,
   "id": "ee690558",
   "metadata": {},
   "outputs": [],
   "source": [
    "# Example: Finding the first number greater than 50 divisible by 7\n",
    "number = 50\n",
    "while number % 7 != 0:\n",
    "    number += 1\n",
    "print(number)"
   ]
  },
  {
   "cell_type": "markdown",
   "id": "a0b6387d",
   "metadata": {},
   "source": [
    "### Exercise\n",
    "1. Write a program to print all numbers less than 20 that are divisible by 3 using a **while** loop.\n",
    "2. Create a program that calculates the sum of integers until the user enters a negative number.\n"
   ]
  },
  {
   "cell_type": "markdown",
   "id": "45e44d88",
   "metadata": {},
   "source": [
    "## Combining for and while Loops\n",
    "\n",
    "### Example"
   ]
  },
  {
   "cell_type": "code",
   "execution_count": null,
   "id": "487291db",
   "metadata": {},
   "outputs": [],
   "source": [
    "# Example: Searching for a value in a list\n",
    "values = [15, 25, 35, 45, 55]\n",
    "search_value = 35\n",
    "found = False\n",
    "\n",
    "for value in values:\n",
    "    if value == search_value:\n",
    "        found = True\n",
    "        break\n",
    "\n",
    "if found:\n",
    "    print(f\"Value {search_value} found!\")\n",
    "else:\n",
    "    print(f\"Value {search_value} not found.\")"
   ]
  },
  {
   "cell_type": "markdown",
   "id": "6e6d0415",
   "metadata": {},
   "source": [
    "### Use Case in Data Science\n",
    "**Combining iteration with condition checking**, e.g., iterating through a dataset and applying custom logic to stop or continue.\n",
    "\n",
    "#### Example Use Case"
   ]
  },
  {
   "cell_type": "code",
   "execution_count": null,
   "id": "dd81df16",
   "metadata": {},
   "outputs": [],
   "source": [
    "# Example: Stopping when a threshold is reached\n",
    "values = [10, 20, 30, 40, 50]\n",
    "threshold = 35\n",
    "for value in values:\n",
    "    if value > threshold:\n",
    "        print(f\"Stopping at {value}, which exceeds the threshold.\")\n",
    "        break"
   ]
  },
  {
   "cell_type": "markdown",
   "id": "276ad554",
   "metadata": {},
   "source": [
    "### Exercise\n",
    "1. Create a program to find the first prime number greater than 100 using a **while** loop inside a **for** loop.\n",
    "2. Write a program that iterates over a list of scores and prints whether each score is \"Pass\" or \"Fail\" based on a threshold.\n"
   ]
  },
  {
   "cell_type": "markdown",
   "id": "d01a0407",
   "metadata": {},
   "source": [
    "## Summary\n",
    "- The **for loop** is ideal for iterating over a sequence of elements.\n",
    "- The **while loop** is useful when the stopping condition is dynamic or unknown.\n",
    "\n",
    "### Final Exercise\n",
    "Write a program to simulate a simple game:\n",
    "1. Start with a score of 0.\n",
    "2. In each round, randomly add or subtract points between 1 and 10.\n",
    "3. Use a **while** loop to stop the game if the score reaches 50 or drops below -50.\n",
    "4. Use a **for** loop to display the history of scores after the game ends."
   ]
  }
 ],
 "metadata": {
  "kernelspec": {
   "display_name": "base",
   "language": "python",
   "name": "python3"
  },
  "language_info": {
   "codemirror_mode": {
    "name": "ipython",
    "version": 3
   },
   "file_extension": ".py",
   "mimetype": "text/x-python",
   "name": "python",
   "nbconvert_exporter": "python",
   "pygments_lexer": "ipython3",
   "version": "3.11.7"
  }
 },
 "nbformat": 4,
 "nbformat_minor": 5
}
