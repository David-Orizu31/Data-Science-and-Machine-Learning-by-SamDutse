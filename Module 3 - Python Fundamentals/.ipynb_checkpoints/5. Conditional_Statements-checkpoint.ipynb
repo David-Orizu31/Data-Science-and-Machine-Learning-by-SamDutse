{
 "cells": [
  {
   "cell_type": "markdown",
   "id": "b66c6fa0",
   "metadata": {},
   "source": [
    "# **Conditional Statements: if, elif, else**\n",
    "\n",
    "---\n",
    "\n",
    "## Introduction\n",
    "Conditional statements are fundamental in programming, enabling decision-making processes. In Python, the primary conditional statements are:\n",
    "\n",
    "- **if**\n",
    "- **elif**\n",
    "- **else**\n",
    "\n",
    "In this module, we will learn how to use these statements, explore their applications in data science, and practice exercises to solidify understanding.\n"
   ]
  },
  {
   "cell_type": "markdown",
   "id": "09a70ae8",
   "metadata": {},
   "source": [
    "## if Statement\n",
    "\n",
    "### Overview\n",
    "- The **if** statement allows you to execute a block of code only if a specified condition is true.\n",
    "\n",
    "### Example"
   ]
  },
  {
   "cell_type": "code",
   "execution_count": null,
   "id": "5b5f7d1f",
   "metadata": {},
   "outputs": [],
   "source": [
    "# Example: Checking a condition\n",
    "x = 10\n",
    "if x > 5:\n",
    "    print(\"x is greater than 5\")"
   ]
  },
  {
   "cell_type": "markdown",
   "id": "0e40423b",
   "metadata": {},
   "source": [
    "### Use Case in Data Science\n",
    "**Filtering data based on conditions**, e.g., selecting rows in a dataset where a value exceeds a threshold.\n",
    "\n",
    "#### Example Use Case"
   ]
  },
  {
   "cell_type": "code",
   "execution_count": null,
   "id": "6d9c1b47",
   "metadata": {},
   "outputs": [],
   "source": [
    "# Example: Filtering a list\n",
    "values = [10, 15, 8, 12, 5]\n",
    "filtered_values = []\n",
    "for value in values:\n",
    "    if value > 10:\n",
    "        filtered_values.append(value)\n",
    "print(filtered_values)"
   ]
  },
  {
   "cell_type": "markdown",
   "id": "4e98be47",
   "metadata": {},
   "source": [
    "### Exercise\n",
    "1. Write a program that checks if a number is positive and prints an appropriate message.\n",
    "2. Filter a list of numbers to include only even numbers using an **if** statement.\n"
   ]
  },
  {
   "cell_type": "markdown",
   "id": "281c9231",
   "metadata": {},
   "source": [
    "## elif Statement\n",
    "\n",
    "### Overview\n",
    "- The **elif** statement allows you to check multiple conditions sequentially.\n",
    "\n",
    "### Example"
   ]
  },
  {
   "cell_type": "code",
   "execution_count": null,
   "id": "1fb0a18e",
   "metadata": {},
   "outputs": [],
   "source": [
    "# Example: Checking multiple conditions\n",
    "x = 10\n",
    "if x < 5:\n",
    "    print(\"x is less than 5\")\n",
    "elif x == 10:\n",
    "    print(\"x is exactly 10\")\n",
    "else:\n",
    "    print(\"x is greater than 5 but not 10\")"
   ]
  },
  {
   "cell_type": "markdown",
   "id": "9277dad3",
   "metadata": {},
   "source": [
    "### Use Case in Data Science\n",
    "**Categorizing data based on ranges or conditions**, e.g., assigning labels to data points.\n",
    "\n",
    "#### Example Use Case"
   ]
  },
  {
   "cell_type": "code",
   "execution_count": null,
   "id": "2679f4d9",
   "metadata": {},
   "outputs": [],
   "source": [
    "# Example: Categorizing values\n",
    "values = [30, 50, 70, 90]\n",
    "categories = []\n",
    "for value in values:\n",
    "    if value < 40:\n",
    "        categories.append(\"Low\")\n",
    "    elif value < 80:\n",
    "        categories.append(\"Medium\")\n",
    "    else:\n",
    "        categories.append(\"High\")\n",
    "print(categories)"
   ]
  },
  {
   "cell_type": "markdown",
   "id": "ae389056",
   "metadata": {},
   "source": [
    "### Exercise\n",
    "1. Write a program to categorize numbers into \"Negative\", \"Zero\", or \"Positive\".\n",
    "2. Create a function that takes a student's score and returns their grade (A, B, C, etc.) based on thresholds.\n"
   ]
  },
  {
   "cell_type": "markdown",
   "id": "dcf74a74",
   "metadata": {},
   "source": [
    "## else Statement\n",
    "\n",
    "### Overview\n",
    "- The **else** statement provides a fallback option when all other conditions are false.\n",
    "\n",
    "### Example"
   ]
  },
  {
   "cell_type": "code",
   "execution_count": null,
   "id": "5d8ec020",
   "metadata": {},
   "outputs": [],
   "source": [
    "# Example: Providing a fallback\n",
    "x = 3\n",
    "if x > 10:\n",
    "    print(\"x is greater than 10\")\n",
    "else:\n",
    "    print(\"x is 10 or less\")"
   ]
  },
  {
   "cell_type": "markdown",
   "id": "ad66f8bc",
   "metadata": {},
   "source": [
    "### Use Case in Data Science\n",
    "**Handling edge cases or default conditions**, e.g., assigning a default value when no other condition is met.\n",
    "\n",
    "#### Example Use Case"
   ]
  },
  {
   "cell_type": "code",
   "execution_count": null,
   "id": "9a34a1b3",
   "metadata": {},
   "outputs": [],
   "source": [
    "# Example: Assigning default categories\n",
    "values = [25, 45, 65, 85]\n",
    "categories = []\n",
    "for value in values:\n",
    "    if value < 30:\n",
    "        categories.append(\"Low\")\n",
    "    elif value < 60:\n",
    "        categories.append(\"Medium\")\n",
    "    else:\n",
    "        categories.append(\"High\")\n",
    "print(categories)"
   ]
  },
  {
   "cell_type": "markdown",
   "id": "6b01c4e5",
   "metadata": {},
   "source": [
    "### Exercise\n",
    "1. Write a program that checks a number's divisibility by 2 and 3. If divisible by both, print a specific message; otherwise, print a fallback message.\n",
    "2. Create a program to assign labels like \"Child\", \"Teen\", \"Adult\" based on age, with a fallback for invalid input.\n"
   ]
  },
  {
   "cell_type": "markdown",
   "id": "2e99cbac",
   "metadata": {},
   "source": [
    "## Combining if, elif, and else\n",
    "\n",
    "### Example"
   ]
  },
  {
   "cell_type": "code",
   "execution_count": null,
   "id": "2f3cce88",
   "metadata": {},
   "outputs": [],
   "source": [
    "# Example: Complex decision-making\n",
    "score = 75\n",
    "if score >= 90:\n",
    "    print(\"Grade: A\")\n",
    "elif score >= 80:\n",
    "    print(\"Grade: B\")\n",
    "elif score >= 70:\n",
    "    print(\"Grade: C\")\n",
    "else:\n",
    "    print(\"Grade: F\")"
   ]
  },
  {
   "cell_type": "markdown",
   "id": "f969199a",
   "metadata": {},
   "source": [
    "### Use Case in Data Science\n",
    "**Implementing decision trees or rules**, e.g., classifying data based on hierarchical conditions.\n",
    "\n",
    "#### Example Use Case"
   ]
  },
  {
   "cell_type": "code",
   "execution_count": null,
   "id": "140716c1",
   "metadata": {},
   "outputs": [],
   "source": [
    "# Example: Classifying values using multiple conditions\n",
    "data = [5, 15, 25, 35]\n",
    "labels = []\n",
    "for value in data:\n",
    "    if value < 10:\n",
    "        labels.append(\"Low\")\n",
    "    elif value < 30:\n",
    "        labels.append(\"Medium\")\n",
    "    else:\n",
    "        labels.append(\"High\")\n",
    "print(labels)"
   ]
  },
  {
   "cell_type": "markdown",
   "id": "2e5d5b57",
   "metadata": {},
   "source": [
    "### Exercise\n",
    "1. Write a program that categorizes temperatures into \"Cold\", \"Warm\", and \"Hot\" based on ranges.\n",
    "2. Create a program to assign a traffic light signal color (\"Red\", \"Yellow\", \"Green\") based on numerical values, with a fallback for invalid input.\n"
   ]
  },
  {
   "cell_type": "markdown",
   "id": "474e4686",
   "metadata": {},
   "source": [
    "## Summary\n",
    "- The **if** statement checks a condition and executes code if true.\n",
    "- The **elif** statement allows multiple sequential conditions to be checked.\n",
    "- The **else** statement provides a fallback when all conditions are false.\n",
    "\n",
    "### Final Exercise\n",
    "Write a program that takes an employee's salary and:\n",
    "1. Adds a 20% bonus if the salary is below $50,000.\n",
    "2. Adds a 10% bonus if the salary is between $50,000 and $100,000.\n",
    "3. Adds no bonus if the salary is above $100,000.\n",
    "\n",
    "Calculate and print the final salary."
   ]
  }
 ],
 "metadata": {
  "language_info": {
   "name": "python"
  }
 },
 "nbformat": 4,
 "nbformat_minor": 5
}
