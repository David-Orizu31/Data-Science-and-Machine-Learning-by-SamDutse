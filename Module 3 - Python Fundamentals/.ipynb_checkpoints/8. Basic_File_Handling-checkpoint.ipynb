{
 "cells": [
  {
   "cell_type": "markdown",
   "id": "491b63c4",
   "metadata": {},
   "source": [
    "# **Basic File Handling: Reading and Writing Files**\n",
    "\n",
    "---\n",
    "\n",
    "## Introduction\n",
    "File handling is an essential part of programming. It allows programs to persist data by reading from and writing to files. Python provides built-in functions to handle files efficiently.\n",
    "\n",
    "In this module, we will cover:\n",
    "\n",
    "- Reading files\n",
    "- Writing files\n",
    "- File handling use cases in data science\n",
    "\n",
    "Each section includes examples, use cases in data science, and exercises to practice the concepts.\n"
   ]
  },
  {
   "cell_type": "markdown",
   "id": "92f7874f",
   "metadata": {},
   "source": [
    "## Reading Files\n",
    "\n",
    "### Overview\n",
    "- Files can be read using the built-in `open()` function.\n",
    "- Common modes for reading:\n",
    "  - `'r'`: Read mode (default).\n",
    "  - `'rb'`: Read binary mode.\n",
    "\n",
    "### Example"
   ]
  },
  {
   "cell_type": "code",
   "execution_count": null,
   "id": "3059e64d",
   "metadata": {},
   "outputs": [],
   "source": [
    "# Example: Reading a text file\n",
    "with open('example.txt', 'r') as file:\n",
    "    content = file.read()\n",
    "    print(content)"
   ]
  },
  {
   "cell_type": "markdown",
   "id": "6046798d",
   "metadata": {},
   "source": [
    "### Use Case in Data Science\n",
    "**Loading data from text or CSV files**, e.g., loading a dataset for analysis.\n",
    "\n",
    "#### Example Use Case"
   ]
  },
  {
   "cell_type": "code",
   "execution_count": null,
   "id": "a702a5a7",
   "metadata": {},
   "outputs": [],
   "source": [
    "# Example: Reading a CSV file (basic)\n",
    "with open('data.csv', 'r') as file:\n",
    "    for line in file:\n",
    "        print(line.strip())"
   ]
  },
  {
   "cell_type": "markdown",
   "id": "994ae2bb",
   "metadata": {},
   "source": [
    "### Exercise\n",
    "1. Create a text file with some content and write a Python program to read and print its contents.\n",
    "2. Read a file line by line and count the total number of lines in it.\n"
   ]
  },
  {
   "cell_type": "markdown",
   "id": "83ddc935",
   "metadata": {},
   "source": [
    "## Writing Files\n",
    "\n",
    "### Overview\n",
    "- Files can be written to using the `open()` function in write (`'w'`) or append (`'a'`) mode.\n",
    "- Common modes for writing:\n",
    "  - `'w'`: Write mode (overwrites existing content).\n",
    "  - `'a'`: Append mode (adds content to the end).\n",
    "\n",
    "### Example"
   ]
  },
  {
   "cell_type": "code",
   "execution_count": null,
   "id": "4530b9d1",
   "metadata": {},
   "outputs": [],
   "source": [
    "# Example: Writing to a text file\n",
    "with open('output.txt', 'w') as file:\n",
    "    file.write('Hello, World!\\n')\n",
    "    file.write('This is a new line.')"
   ]
  },
  {
   "cell_type": "markdown",
   "id": "b4dcaf88",
   "metadata": {},
   "source": [
    "### Use Case in Data Science\n",
    "**Exporting results or processed data**, e.g., saving a cleaned dataset or model output to a file.\n",
    "\n",
    "#### Example Use Case"
   ]
  },
  {
   "cell_type": "code",
   "execution_count": null,
   "id": "4a12f34c",
   "metadata": {},
   "outputs": [],
   "source": [
    "# Example: Writing processed data to a file\n",
    "data = ['Name, Age, Score', 'Alice, 25, 85', 'Bob, 30, 90']\n",
    "with open('processed_data.csv', 'w') as file:\n",
    "    for line in data:\n",
    "        file.write(line + '\\n')"
   ]
  },
  {
   "cell_type": "markdown",
   "id": "592c0889",
   "metadata": {},
   "source": [
    "### Exercise\n",
    "1. Write a Python program to create a new file and save the squares of numbers from 1 to 10.\n",
    "2. Append the current date and time to an existing text file.\n"
   ]
  },
  {
   "cell_type": "markdown",
   "id": "e691c99c",
   "metadata": {},
   "source": [
    "## Combining Reading and Writing\n",
    "\n",
    "### Example"
   ]
  },
  {
   "cell_type": "code",
   "execution_count": null,
   "id": "386b315e",
   "metadata": {},
   "outputs": [],
   "source": [
    "# Example: Copying contents of one file to another\n",
    "with open('source.txt', 'r') as source_file:\n",
    "    content = source_file.read()\n",
    "\n",
    "with open('destination.txt', 'w') as destination_file:\n",
    "    destination_file.write(content)"
   ]
  },
  {
   "cell_type": "markdown",
   "id": "3a30a488",
   "metadata": {},
   "source": [
    "### Use Case in Data Science\n",
    "**Transforming data from one format to another**, e.g., reading raw data, processing it, and saving it in a clean format.\n",
    "\n",
    "#### Example Use Case"
   ]
  },
  {
   "cell_type": "code",
   "execution_count": null,
   "id": "7fb2a53b",
   "metadata": {},
   "outputs": [],
   "source": [
    "# Example: Transforming data and saving it to a file\n",
    "with open('raw_data.txt', 'r') as file:\n",
    "    data = file.readlines()\n",
    "\n",
    "cleaned_data = [line.strip().upper() for line in data]\n",
    "\n",
    "with open('cleaned_data.txt', 'w') as file:\n",
    "    for line in cleaned_data:\n",
    "        file.write(line + '\\n')"
   ]
  },
  {
   "cell_type": "markdown",
   "id": "1ad006dd",
   "metadata": {},
   "source": [
    "### Exercise\n",
    "1. Write a Python program to read a file, reverse each line's content, and save the result to a new file.\n",
    "2. Read a CSV file, filter rows based on a condition, and save the filtered data to a new CSV file.\n"
   ]
  },
  {
   "cell_type": "markdown",
   "id": "6e31fb5f",
   "metadata": {},
   "source": [
    "## Best Practices for File Handling\n",
    "\n",
    "1. Always close files or use `with` statements to handle files automatically.\n",
    "2. Handle exceptions when working with files to avoid runtime errors.\n",
    "3. Use libraries like `pandas` for advanced file handling tasks (e.g., reading/writing CSV, Excel files).\n",
    "\n",
    "### Example: Handling Exceptions\n"
   ]
  },
  {
   "cell_type": "code",
   "execution_count": null,
   "id": "0447ced7",
   "metadata": {},
   "outputs": [],
   "source": [
    "# Example: Safe file handling\n",
    "try:\n",
    "    with open('nonexistent.txt', 'r') as file:\n",
    "        content = file.read()\n",
    "except FileNotFoundError:\n",
    "    print(\"File not found. Please check the file path.\")"
   ]
  },
  {
   "cell_type": "markdown",
   "id": "aa1b7ac8",
   "metadata": {},
   "source": [
    "### Exercise\n",
    "1. Modify a program to handle cases where the file does not exist.\n",
    "2. Use exception handling to ensure a file is closed even if an error occurs during processing.\n"
   ]
  },
  {
   "cell_type": "markdown",
   "id": "72b5d3be",
   "metadata": {},
   "source": [
    "## Summary\n",
    "- Files can be read using the `open()` function in `'r'` mode.\n",
    "- Files can be written or appended to using `'w'` or `'a'` mode.\n",
    "- Use `with` statements to manage file resources efficiently.\n",
    "\n",
    "### Final Exercise\n",
    "1. Write a program to merge the contents of multiple text files into one file.\n",
    "2. Create a CSV file from scratch, write data to it, and read it back using basic file handling methods.\n"
   ]
  }
 ],
 "metadata": {
  "language_info": {
   "name": "python"
  }
 },
 "nbformat": 4,
 "nbformat_minor": 5
}
