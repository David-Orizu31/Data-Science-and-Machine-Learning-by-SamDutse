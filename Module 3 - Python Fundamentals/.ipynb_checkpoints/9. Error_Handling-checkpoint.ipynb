{
 "cells": [
  {
   "cell_type": "markdown",
   "id": "d5757d29",
   "metadata": {},
   "source": [
    "# **Error Handling: Try-Except Blocks**\n",
    "\n",
    "---\n",
    "\n",
    "## Introduction\n",
    "\n",
    "Error handling is a critical aspect of programming. It ensures that programs can handle unexpected situations gracefully, without crashing.\n",
    "\n",
    "Python provides the `try-except` construct to catch and handle exceptions effectively.\n",
    "\n",
    "In this module, we will cover:\n",
    "\n",
    "- Understanding try-except blocks\n",
    "- Raising exceptions\n",
    "- Use cases of error handling in data science\n",
    "\n",
    "Each section includes examples, use cases in data science, and exercises to help you practice and learn.\n",
    "    "
   ]
  },
  {
   "cell_type": "markdown",
   "id": "3b9550dc",
   "metadata": {},
   "source": [
    "\n",
    "## Try-Except Blocks\n",
    "\n",
    "### Overview\n",
    "\n",
    "- The `try` block contains code that may raise an exception.\n",
    "- The `except` block catches and handles the exception.\n",
    "\n",
    "### Example\n",
    "    "
   ]
  },
  {
   "cell_type": "code",
   "execution_count": null,
   "id": "d3a249d5",
   "metadata": {},
   "outputs": [],
   "source": [
    "# Example: Handling a division by zero error\n",
    "try:\n",
    "    result = 10 / 0\n",
    "except ZeroDivisionError:\n",
    "    print(\"Error: Cannot divide by zero.\")    "
   ]
  },
  {
   "cell_type": "markdown",
   "id": "af67412f",
   "metadata": {},
   "source": [
    "\n",
    "### Use Case in Data Science\n",
    "\n",
    "**Handling missing or corrupt data**, e.g., trying to process files or rows with invalid values.\n",
    "\n",
    "#### Example Use Case\n",
    "    "
   ]
  },
  {
   "cell_type": "code",
   "execution_count": null,
   "id": "09f6dd49",
   "metadata": {},
   "outputs": [],
   "source": [
    "# Example: Handling missing values in a dataset\n",
    "values = [10, None, 20, 30]\n",
    "cleaned_values = []\n",
    "\n",
    "for value in values:\n",
    "    try:\n",
    "        cleaned_values.append(value * 2)\n",
    "    except TypeError:\n",
    "        cleaned_values.append(0)\n",
    "\n",
    "print(cleaned_values)\n",
    "    "
   ]
  },
  {
   "cell_type": "markdown",
   "id": "0a5ad5da",
   "metadata": {},
   "source": [
    "\n",
    "### Exercise\n",
    "\n",
    "1. Write a program to divide two numbers, catching a division by zero error.\n",
    "2. Create a program that attempts to open a file and handles the `FileNotFoundError` if the file doesn't exist.\n",
    "    "
   ]
  },
  {
   "cell_type": "markdown",
   "id": "2ea820f3",
   "metadata": {},
   "source": [
    "\n",
    "## Raising Exceptions\n",
    "\n",
    "### Overview\n",
    "\n",
    "- Exceptions can be raised intentionally using the `raise` keyword.\n",
    "- Useful for enforcing constraints or validating data.\n",
    "\n",
    "### Example\n",
    "    "
   ]
  },
  {
   "cell_type": "code",
   "execution_count": null,
   "id": "150bae2f",
   "metadata": {},
   "outputs": [],
   "source": [
    "\n",
    "# Example: Raising an exception for invalid input\n",
    "def process_age(age):\n",
    "    if age < 0:\n",
    "        raise ValueError(\"Age cannot be negative.\")\n",
    "    return age * 2\n",
    "\n",
    "try:\n",
    "    print(process_age(-5))\n",
    "except ValueError as e:\n",
    "    print(f\"Error: {e}\")\n",
    "    "
   ]
  },
  {
   "cell_type": "markdown",
   "id": "3a25b646",
   "metadata": {},
   "source": [
    "\n",
    "### Use Case in Data Science\n",
    "\n",
    "**Validating user input or dataset constraints**, e.g., ensuring numerical data is within an expected range.\n",
    "\n",
    "#### Example Use Case\n",
    "    "
   ]
  },
  {
   "cell_type": "code",
   "execution_count": null,
   "id": "41170202",
   "metadata": {},
   "outputs": [],
   "source": [
    "\n",
    "# Example: Validating a dataset\n",
    "def validate_data(data):\n",
    "    for value in data:\n",
    "        if value < 0:\n",
    "            raise ValueError(\"Dataset contains negative values.\")\n",
    "\n",
    "try:\n",
    "    validate_data([10, -5, 30])\n",
    "except ValueError as e:\n",
    "    print(f\"Validation Error: {e}\")\n",
    "    "
   ]
  },
  {
   "cell_type": "markdown",
   "id": "5af7180a",
   "metadata": {},
   "source": [
    "\n",
    "### Exercise\n",
    "\n",
    "1. Write a function to check if a number is even, raising an exception if it isn't.\n",
    "2. Create a program to validate a list of strings, raising an exception if any string is empty.\n",
    "    "
   ]
  },
  {
   "cell_type": "markdown",
   "id": "9ea7c6f9",
   "metadata": {},
   "source": [
    "\n",
    "## Multiple Exceptions\n",
    "\n",
    "### Overview\n",
    "\n",
    "- You can catch multiple exceptions using multiple `except` blocks or a tuple of exceptions.\n",
    "- Useful for handling different types of errors separately.\n",
    "\n",
    "### Example\n",
    "    "
   ]
  },
  {
   "cell_type": "code",
   "execution_count": null,
   "id": "8be562e0",
   "metadata": {},
   "outputs": [],
   "source": [
    "\n",
    "# Example: Handling multiple exceptions\n",
    "try:\n",
    "    num = int(\"invalid\")\n",
    "    result = 10 / num\n",
    "except ValueError:\n",
    "    print(\"Error: Invalid input.\")\n",
    "except ZeroDivisionError:\n",
    "    print(\"Error: Division by zero.\")\n",
    "    "
   ]
  },
  {
   "cell_type": "markdown",
   "id": "b021fde5",
   "metadata": {},
   "source": [
    "\n",
    "### Use Case in Data Science\n",
    "\n",
    "**Handling multiple error scenarios**, e.g., file operations and data parsing errors simultaneously.\n",
    "\n",
    "#### Example Use Case\n",
    "    "
   ]
  },
  {
   "cell_type": "code",
   "execution_count": null,
   "id": "6ac8bba0",
   "metadata": {},
   "outputs": [],
   "source": [
    "\n",
    "# Example: Handling file and parsing errors\n",
    "try:\n",
    "    with open('data.csv', 'r') as file:\n",
    "        for line in file:\n",
    "            values = [int(x) for x in line.split(',')]\n",
    "except FileNotFoundError:\n",
    "    print(\"Error: File not found.\")\n",
    "except ValueError:\n",
    "    print(\"Error: Invalid data format.\")\n",
    "    "
   ]
  },
  {
   "cell_type": "markdown",
   "id": "cfd5bb25",
   "metadata": {},
   "source": [
    "\n",
    "### Exercise\n",
    "\n",
    "1. Write a program to read a list of numbers from a file, handling both file not found and invalid data errors.\n",
    "2. Create a program to calculate the mean of a list, handling division by zero and non-numerical data errors.\n",
    "    "
   ]
  },
  {
   "cell_type": "markdown",
   "id": "721526db",
   "metadata": {},
   "source": [
    "\n",
    "## Finally Block\n",
    "\n",
    "### Overview\n",
    "\n",
    "- The `finally` block is executed no matter what, even if an exception occurs.\n",
    "- Useful for cleanup operations, such as closing files or releasing resources.\n",
    "\n",
    "### Example\n",
    "    "
   ]
  },
  {
   "cell_type": "code",
   "execution_count": null,
   "id": "493b6399",
   "metadata": {},
   "outputs": [],
   "source": [
    "\n",
    "# Example: Using the finally block\n",
    "try:\n",
    "    file = open('example.txt', 'r')\n",
    "    content = file.read()\n",
    "    print(content)\n",
    "except FileNotFoundError:\n",
    "    print(\"Error: File not found.\")\n",
    "finally:\n",
    "    print(\"Executing cleanup.\")\n",
    "    file.close()\n",
    "    "
   ]
  },
  {
   "cell_type": "markdown",
   "id": "809eeb47",
   "metadata": {},
   "source": [
    "\n",
    "### Use Case in Data Science\n",
    "\n",
    "**Ensuring cleanup tasks are performed**, e.g., closing database connections or file handles.\n",
    "\n",
    "#### Example Use Case\n",
    "    "
   ]
  },
  {
   "cell_type": "code",
   "execution_count": null,
   "id": "5c3a9069",
   "metadata": {},
   "outputs": [],
   "source": [
    "\n",
    "# Example: Closing a file after an operation\n",
    "try:\n",
    "    with open('data.txt', 'r') as file:\n",
    "        data = file.readlines()\n",
    "except FileNotFoundError:\n",
    "    print(\"Error: File not found.\")\n",
    "finally:\n",
    "    print(\"Finished reading the file.\")\n",
    "    "
   ]
  },
  {
   "cell_type": "markdown",
   "id": "26deafc0",
   "metadata": {},
   "source": [
    "\n",
    "### Exercise\n",
    "\n",
    "1. Write a program to handle exceptions during file reading, ensuring the file is closed in the `finally` block.\n",
    "2. Create a program that simulates a database connection and ensures it is closed in the `finally` block.\n",
    "    "
   ]
  },
  {
   "cell_type": "markdown",
   "id": "77d40e49",
   "metadata": {},
   "source": [
    "\n",
    "## Summary\n",
    "\n",
    "- Use `try-except` blocks to handle errors gracefully.\n",
    "- Raise exceptions to enforce constraints or validate inputs.\n",
    "- Use the `finally` block for cleanup operations.\n",
    "\n",
    "### Final Exercise\n",
    "\n",
    "1. Write a program to process a list of file paths. For each file:\n",
    "   - Handle the `FileNotFoundError` if the file doesn't exist.\n",
    "   - Handle invalid data formats in the file.\n",
    "   - Ensure all file resources are closed after processing.\n",
    "2. Create a custom exception for invalid input and use it in a program to validate user data.\n",
    "    "
   ]
  }
 ],
 "metadata": {
  "kernelspec": {
   "display_name": "Python 3 (ipykernel)",
   "language": "python",
   "name": "python3"
  },
  "language_info": {
   "codemirror_mode": {
    "name": "ipython",
    "version": 3
   },
   "file_extension": ".py",
   "mimetype": "text/x-python",
   "name": "python",
   "nbconvert_exporter": "python",
   "pygments_lexer": "ipython3",
   "version": "3.11.7"
  }
 },
 "nbformat": 4,
 "nbformat_minor": 5
}
