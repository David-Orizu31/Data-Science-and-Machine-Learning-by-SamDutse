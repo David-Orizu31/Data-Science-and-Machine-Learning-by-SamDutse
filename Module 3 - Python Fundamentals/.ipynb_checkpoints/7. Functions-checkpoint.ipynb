{
 "cells": [
  {
   "cell_type": "markdown",
   "id": "8e668cc8",
   "metadata": {},
   "source": [
    "# **Functions: Defining Functions, Return Statements, Arguments**\n",
    "\n",
    "---\n",
    "\n",
    "## Introduction\n",
    "Functions are reusable blocks of code designed to perform a specific task. They are fundamental in programming, enabling modularity, code reusability, and readability. In Python, functions are defined using the `def` keyword.\n",
    "\n",
    "In this module, we will cover:\n",
    "\n",
    "- Defining Functions\n",
    "- Return Statements\n",
    "- Arguments and Parameters\n",
    "\n",
    "Each section includes examples, use cases in data science, and exercises for practice.\n"
   ]
  },
  {
   "cell_type": "markdown",
   "id": "f2e323e6",
   "metadata": {},
   "source": [
    "## Defining Functions\n",
    "\n",
    "### Overview\n",
    "- A function is defined using the `def` keyword, followed by a name, parentheses, and a colon.\n",
    "- The code inside the function is indented.\n",
    "\n",
    "### Example"
   ]
  },
  {
   "cell_type": "code",
   "execution_count": null,
   "id": "22c7fb64",
   "metadata": {},
   "outputs": [],
   "source": [
    "# Example: Defining and calling a function\n",
    "def greet():\n",
    "    print(\"Hello, World!\")\n",
    "\n",
    "# Call the function\n",
    "greet()"
   ]
  },
  {
   "cell_type": "markdown",
   "id": "8c92e476",
   "metadata": {},
   "source": [
    "### Use Case in Data Science\n",
    "**Encapsulating repetitive tasks**, e.g., data cleaning or feature engineering steps.\n",
    "\n",
    "#### Example Use Case"
   ]
  },
  {
   "cell_type": "code",
   "execution_count": null,
   "id": "3d658998",
   "metadata": {},
   "outputs": [],
   "source": [
    "# Example: Function to clean a list of strings\n",
    "def clean_strings(strings):\n",
    "    cleaned = [s.strip().lower() for s in strings]\n",
    "    return cleaned\n",
    "\n",
    "# Using the function\n",
    "data = [\"  Python  \", \"Data Science\", \"  FUNCTIONS\"]\n",
    "cleaned_data = clean_strings(data)\n",
    "print(cleaned_data)"
   ]
  },
  {
   "cell_type": "markdown",
   "id": "f602650a",
   "metadata": {},
   "source": [
    "### Exercise\n",
    "1. Write a function that takes no arguments and prints \"Welcome to Data Science!\".\n",
    "2. Define a function to calculate the square of a number and call it with different inputs.\n"
   ]
  },
  {
   "cell_type": "markdown",
   "id": "a37d30ae",
   "metadata": {},
   "source": [
    "## Return Statements\n",
    "\n",
    "### Overview\n",
    "- The `return` statement is used to send a result back to the caller.\n",
    "- A function can return any type of data.\n",
    "\n",
    "### Example"
   ]
  },
  {
   "cell_type": "code",
   "execution_count": null,
   "id": "e6f0c3ef",
   "metadata": {},
   "outputs": [],
   "source": [
    "# Example: Returning a value\n",
    "def add(a, b):\n",
    "    return a + b\n",
    "\n",
    "# Call the function\n",
    "result = add(5, 3)\n",
    "print(result)"
   ]
  },
  {
   "cell_type": "markdown",
   "id": "643adb66",
   "metadata": {},
   "source": [
    "### Use Case in Data Science\n",
    "**Returning processed data**, e.g., calculated metrics or transformed datasets.\n",
    "\n",
    "#### Example Use Case"
   ]
  },
  {
   "cell_type": "code",
   "execution_count": null,
   "id": "d55ee8c9",
   "metadata": {},
   "outputs": [],
   "source": [
    "# Example: Function to calculate mean\n",
    "def calculate_mean(numbers):\n",
    "    return sum(numbers) / len(numbers)\n",
    "\n",
    "# Using the function\n",
    "data = [10, 20, 30, 40, 50]\n",
    "mean = calculate_mean(data)\n",
    "print(mean)"
   ]
  },
  {
   "cell_type": "markdown",
   "id": "d2a7c405",
   "metadata": {},
   "source": [
    "### Exercise\n",
    "1. Write a function to calculate the area of a rectangle given its length and width.\n",
    "2. Create a function that takes a list of numbers and returns their maximum and minimum values.\n"
   ]
  },
  {
   "cell_type": "markdown",
   "id": "06277004",
   "metadata": {},
   "source": [
    "## Arguments and Parameters\n",
    "\n",
    "### Overview\n",
    "- Parameters are variables listed in the function's definition.\n",
    "- Arguments are values passed to the function when it is called.\n",
    "- Python supports positional, keyword, default, and variable-length arguments.\n",
    "\n",
    "### Example"
   ]
  },
  {
   "cell_type": "code",
   "execution_count": null,
   "id": "ee696697",
   "metadata": {},
   "outputs": [],
   "source": [
    "# Example: Function with parameters\n",
    "def greet(name):\n",
    "    print(f\"Hello, {name}!\")\n",
    "\n",
    "# Call the function\n",
    "greet(\"Alice\")"
   ]
  },
  {
   "cell_type": "markdown",
   "id": "74308e7f",
   "metadata": {},
   "source": [
    "### Use Case in Data Science\n",
    "**Building reusable functions with flexibility**, e.g., scaling numerical features with customizable parameters.\n",
    "\n",
    "#### Example Use Case"
   ]
  },
  {
   "cell_type": "code",
   "execution_count": null,
   "id": "6681b955",
   "metadata": {},
   "outputs": [],
   "source": [
    "# Example: Function with default and keyword arguments\n",
    "def scale_data(data, factor=1.0):\n",
    "    return [x * factor for x in data]\n",
    "\n",
    "# Using the function\n",
    "data = [10, 20, 30]\n",
    "scaled_data = scale_data(data, factor=2)\n",
    "print(scaled_data)"
   ]
  },
  {
   "cell_type": "markdown",
   "id": "76ea6a73",
   "metadata": {},
   "source": [
    "### Exercise\n",
    "1. Write a function that takes a person's name and age as arguments and prints a message.\n",
    "2. Define a function that takes a list of numbers and an optional threshold. Return numbers greater than the threshold.\n"
   ]
  },
  {
   "cell_type": "markdown",
   "id": "52247101",
   "metadata": {},
   "source": [
    "## Combining All Concepts\n",
    "\n",
    "### Example"
   ]
  },
  {
   "cell_type": "code",
   "execution_count": null,
   "id": "a6bbb61b",
   "metadata": {},
   "outputs": [],
   "source": [
    "# Example: Complex function with return and arguments\n",
    "def categorize_score(score, thresholds=(50, 75)):\n",
    "    if score < thresholds[0]:\n",
    "        return \"Low\"\n",
    "    elif score < thresholds[1]:\n",
    "        return \"Medium\"\n",
    "    else:\n",
    "        return \"High\"\n",
    "\n",
    "# Using the function\n",
    "scores = [45, 65, 85]\n",
    "categories = [categorize_score(s) for s in scores]\n",
    "print(categories)"
   ]
  },
  {
   "cell_type": "markdown",
   "id": "624ce4b0",
   "metadata": {},
   "source": [
    "### Use Case in Data Science\n",
    "**Creating reusable functions for common tasks**, e.g., labeling data based on thresholds or applying transformations.\n",
    "\n",
    "#### Example Use Case"
   ]
  },
  {
   "cell_type": "code",
   "execution_count": null,
   "id": "4cfdcd29",
   "metadata": {},
   "outputs": [],
   "source": [
    "# Example: Function to normalize data\n",
    "def normalize(data, min_val=None, max_val=None):\n",
    "    if min_val is None:\n",
    "        min_val = min(data)\n",
    "    if max_val is None:\n",
    "        max_val = max(data)\n",
    "    return [(x - min_val) / (max_val - min_val) for x in data]\n",
    "\n",
    "# Using the function\n",
    "data = [10, 20, 30, 40, 50]\n",
    "normalized_data = normalize(data)\n",
    "print(normalized_data)"
   ]
  },
  {
   "cell_type": "markdown",
   "id": "f39032c0",
   "metadata": {},
   "source": [
    "### Exercise\n",
    "1. Write a function that takes a list of scores and returns their grades using predefined thresholds.\n",
    "2. Create a function to calculate and return the median of a list of numbers.\n"
   ]
  },
  {
   "cell_type": "markdown",
   "id": "c62ac4c7",
   "metadata": {},
   "source": [
    "## Summary\n",
    "- Functions encapsulate reusable blocks of code.\n",
    "- The `return` statement sends results back to the caller.\n",
    "- Arguments and parameters make functions flexible and dynamic.\n",
    "\n",
    "### Final Exercise\n",
    "1. Write a function to preprocess a dataset by:\n",
    "   - Removing missing values.\n",
    "   - Scaling numerical features.\n",
    "2. Use your function to preprocess a sample dataset and print the result.\n"
   ]
  }
 ],
 "metadata": {
  "language_info": {
   "name": "python"
  }
 },
 "nbformat": 4,
 "nbformat_minor": 5
}
