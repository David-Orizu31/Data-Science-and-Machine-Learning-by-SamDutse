{
 "cells": [
  {
   "cell_type": "markdown",
   "id": "851ad80b",
   "metadata": {},
   "source": [
    "# **Data Structures: Lists, Tuples, Dictionaries, and Sets**\n",
    "\n",
    "---\n",
    "\n",
    "## Introduction\n",
    "Data structures are fundamental building blocks in programming and data science. They allow us to store, organize, and manipulate data efficiently. In this module, we will explore the following data structures in Python:\n",
    "\n",
    "- **Lists**\n",
    "- **Tuples**\n",
    "- **Dictionaries**\n",
    "- **Sets**\n",
    "\n",
    "Each section will include explanations, examples, use cases in data science, and exercises to practice.\n"
   ]
  },
  {
   "cell_type": "markdown",
   "id": "dc464a4c",
   "metadata": {},
   "source": [
    "## Lists\n",
    "\n",
    "### Overview\n",
    "- **Lists** are ordered, mutable collections of items.\n",
    "- Can contain elements of different data types.\n",
    "\n",
    "### Example"
   ]
  },
  {
   "cell_type": "code",
   "execution_count": null,
   "id": "534d8b93",
   "metadata": {},
   "outputs": [],
   "source": [
    "# Creating a list\n",
    "fruits = [\"apple\", \"banana\", \"cherry\"]\n",
    "print(fruits)\n",
    "\n",
    "# Accessing elements\n",
    "print(fruits[0])  # First element\n",
    "\n",
    "# Modifying a list\n",
    "fruits.append(\"date\")\n",
    "print(fruits)"
   ]
  },
  {
   "cell_type": "markdown",
   "id": "669cb391",
   "metadata": {},
   "source": [
    "### Use Case in Data Science\n",
    "**Storing and processing sequences of data**, e.g., a list of predictions from a machine learning model.\n",
    "\n",
    "#### Example Use Case"
   ]
  },
  {
   "cell_type": "code",
   "execution_count": null,
   "id": "ea360330",
   "metadata": {},
   "outputs": [],
   "source": [
    "# Example: Predictions from a model\n",
    "predictions = [0.1, 0.8, 0.5, 0.9]\n",
    "# Filtering predictions above a threshold\n",
    "high_confidence = [pred for pred in predictions if pred > 0.7]\n",
    "print(high_confidence)"
   ]
  },
  {
   "cell_type": "markdown",
   "id": "daee2d69",
   "metadata": {},
   "source": [
    "### Exercise\n",
    "1. Create a list of numbers from 1 to 10 and calculate their squares.\n",
    "2. Create a list of strings and write a loop to print each string in uppercase.\n"
   ]
  },
  {
   "cell_type": "markdown",
   "id": "864ded00",
   "metadata": {},
   "source": [
    "## Tuples\n",
    "\n",
    "### Overview\n",
    "- **Tuples** are ordered, immutable collections of items.\n",
    "- Often used to group related data.\n",
    "\n",
    "### Example"
   ]
  },
  {
   "cell_type": "code",
   "execution_count": null,
   "id": "f92e0ba4",
   "metadata": {},
   "outputs": [],
   "source": [
    "# Creating a tuple\n",
    "coordinates = (10.5, 20.3)\n",
    "print(coordinates)\n",
    "\n",
    "# Accessing elements\n",
    "print(coordinates[0])"
   ]
  },
  {
   "cell_type": "markdown",
   "id": "e8ccd524",
   "metadata": {},
   "source": [
    "### Use Case in Data Science\n",
    "**Storing fixed collections of related data**, e.g., latitude and longitude coordinates.\n",
    "\n",
    "#### Example Use Case"
   ]
  },
  {
   "cell_type": "code",
   "execution_count": null,
   "id": "0abb4f46",
   "metadata": {},
   "outputs": [],
   "source": [
    "# Example: Latitude and Longitude\n",
    "locations = [(10.5, 20.3), (11.5, 21.3), (12.5, 22.3)]\n",
    "for lat, lon in locations:\n",
    "    print(f\"Latitude: {lat}, Longitude: {lon}\")"
   ]
  },
  {
   "cell_type": "markdown",
   "id": "74b436f9",
   "metadata": {},
   "source": [
    "### Exercise\n",
    "1. Create a tuple with 5 numbers. Find the maximum and minimum values.\n",
    "2. Convert a list into a tuple and access its elements.\n"
   ]
  },
  {
   "cell_type": "markdown",
   "id": "490498dc",
   "metadata": {},
   "source": [
    "## Dictionaries\n",
    "\n",
    "### Overview\n",
    "- **Dictionaries** are unordered collections of key-value pairs.\n",
    "- Keys are unique and immutable, while values can be of any type.\n",
    "\n",
    "### Example"
   ]
  },
  {
   "cell_type": "code",
   "execution_count": null,
   "id": "e644b7ba",
   "metadata": {},
   "outputs": [],
   "source": [
    "# Creating a dictionary\n",
    "student = {\"name\": \"Alice\", \"age\": 24, \"grades\": [85, 90, 88]}\n",
    "print(student)\n",
    "\n",
    "# Accessing values\n",
    "print(student[\"name\"])\n",
    "\n",
    "# Modifying a dictionary\n",
    "student[\"age\"] = 25\n",
    "print(student)"
   ]
  },
  {
   "cell_type": "markdown",
   "id": "e9a9b135",
   "metadata": {},
   "source": [
    "### Use Case in Data Science\n",
    "**Mapping and organizing structured data**, e.g., storing feature names and their corresponding values.\n",
    "\n",
    "#### Example Use Case"
   ]
  },
  {
   "cell_type": "code",
   "execution_count": null,
   "id": "b7a299fa",
   "metadata": {},
   "outputs": [],
   "source": [
    "# Example: Feature dictionary\n",
    "features = {\"height\": 170, \"weight\": 65, \"age\": 30}\n",
    "# Accessing feature values\n",
    "for key, value in features.items():\n",
    "    print(f\"{key}: {value}\")"
   ]
  },
  {
   "cell_type": "markdown",
   "id": "1bcf0d6e",
   "metadata": {},
   "source": [
    "### Exercise\n",
    "1. Create a dictionary of 5 students with their grades. Calculate the average grade.\n",
    "2. Write a program to count the frequency of words in a given sentence using a dictionary.\n"
   ]
  },
  {
   "cell_type": "markdown",
   "id": "2fcc651f",
   "metadata": {},
   "source": [
    "## Sets\n",
    "\n",
    "### Overview\n",
    "- **Sets** are unordered collections of unique elements.\n",
    "- Useful for operations like union, intersection, and difference.\n",
    "\n",
    "### Example"
   ]
  },
  {
   "cell_type": "code",
   "execution_count": null,
   "id": "905af6c1",
   "metadata": {},
   "outputs": [],
   "source": [
    "# Creating a set\n",
    "unique_numbers = {1, 2, 3, 3, 4}\n",
    "print(unique_numbers)\n",
    "\n",
    "# Adding elements\n",
    "unique_numbers.add(5)\n",
    "print(unique_numbers)\n",
    "\n",
    "# Set operations\n",
    "even_numbers = {2, 4, 6}\n",
    "print(unique_numbers.intersection(even_numbers))"
   ]
  },
  {
   "cell_type": "markdown",
   "id": "b63de652",
   "metadata": {},
   "source": [
    "### Use Case in Data Science\n",
    "**Removing duplicates and performing set operations**, e.g., finding common or unique items in datasets.\n",
    "\n",
    "#### Example Use Case"
   ]
  },
  {
   "cell_type": "code",
   "execution_count": null,
   "id": "9bbb7048",
   "metadata": {},
   "outputs": [],
   "source": [
    "# Example: Unique values in a dataset\n",
    "values = [1, 2, 2, 3, 4, 4, 5]\n",
    "unique_values = set(values)\n",
    "print(unique_values)"
   ]
  },
  {
   "cell_type": "markdown",
   "id": "ffcc18ab",
   "metadata": {},
   "source": [
    "### Exercise\n",
    "1. Create two sets of numbers and find their union and intersection.\n",
    "2. Write a program to find unique words in a given sentence.\n"
   ]
  },
  {
   "cell_type": "markdown",
   "id": "66236eef",
   "metadata": {},
   "source": [
    "## Summary\n",
    "- Lists are versatile and great for ordered data.\n",
    "- Tuples are immutable and ideal for fixed collections.\n",
    "- Dictionaries provide a powerful way to associate keys with values.\n",
    "- Sets ensure uniqueness and support mathematical set operations.\n"
   ]
  },
  {
   "cell_type": "markdown",
   "id": "692061c1",
   "metadata": {},
   "source": [
    "## Final Exercise\n",
    "Use all four data structures in a single program. For example, create a dictionary where keys are student names, values are tuples of their (age, grades), and calculate the average grade while ensuring no duplicate entries in the dataset."
   ]
  }
 ],
 "metadata": {
  "language_info": {
   "name": "python"
  }
 },
 "nbformat": 4,
 "nbformat_minor": 5
}
