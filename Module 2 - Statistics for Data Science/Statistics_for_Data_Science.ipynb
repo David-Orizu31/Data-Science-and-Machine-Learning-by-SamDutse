{
 "cells": [
  {
   "cell_type": "markdown",
   "metadata": {},
   "source": [
    "# Statistics for Data Science\n",
    "This notebook provides a detailed overview of essential statistical concepts for data science. We will cover descriptive statistics, probability distributions, hypothesis testing, regression analysis, and data visualization, with practical examples and exercises to reinforce learning.\n",
    "\n",
    "Here is a link to a video resource that will help reinforce the learning and understanding the use of statistics in Data Science. [The Vital Role of statistics](https://www.youtube.com/watch?v=RjayA3jyXyo)"
   ]
  },
  {
   "cell_type": "markdown",
   "metadata": {},
   "source": [
    "## Descriptive Statistics\n",
    "Descriptive statistics summarize and describe the main features of a dataset. Common metrics include:\n",
    "- **Mean:** The average value.\n",
    "- **Median:** The middle value when data is sorted.\n",
    "- **Mode:** The most frequently occurring value.\n",
    "- **Standard Deviation:** A measure of data dispersion around the mean.\n",
    "\n",
    "### Example:\n",
    "Given a dataset: [10, 20, 20, 30, 40]\n",
    "- Mean = (10 + 20 + 20 + 30 + 40) / 5\n",
    "- Median = 20\n",
    "- Mode = 20\n",
    "- Standard Deviation = sqrt(((10-mean)^2 + (20-mean)^2 + ... + (40-mean)^2)/N)"
   ]
  },
  {
   "cell_type": "code",
   "execution_count": null,
   "metadata": {},
   "outputs": [],
   "source": [
    "import numpy as np\n",
    "from scipy import stats\n",
    "\n",
    "data = [10, 20, 20, 30, 40]\n",
    "mean = np.mean(data)\n",
    "median = np.median(data)\n",
    "mode = stats.mode(data)\n",
    "std_dev = np.std(data)\n",
    "\n",
    "print(f'Mean: {mean}')\n",
    "print(f'Median: {median}')\n",
    "print(f'Mode: {mode}')\n",
    "print(f'Standard Deviation: {std_dev}')"
   ]
  },
  {
   "cell_type": "markdown",
   "metadata": {},
   "source": [
    "### Practice Exercise\n",
    "Calculate the mean, median, mode, and standard deviation for the dataset: [12, 15, 14, 10, 18, 20, 25]."
   ]
  },
  {
   "cell_type": "markdown",
   "metadata": {},
   "source": [
    "## Probability Distributions\n",
    "Probability distributions describe how data points are distributed.\n",
    "\n",
    "### Common Distributions:\n",
    "1. **Normal Distribution:** A symmetric, bell-shaped curve.\n",
    "2. **Binomial Distribution:** Represents the number of successes in a fixed number of trials.\n",
    "\n",
    "### Example:\n",
    "- A coin toss follows a binomial distribution.\n",
    "- Heights of people often follow a normal distribution."
   ]
  },
  {
   "cell_type": "code",
   "execution_count": null,
   "metadata": {},
   "outputs": [],
   "source": [
    "import matplotlib.pyplot as plt\n",
    "x = np.linspace(-5, 5, 100)\n",
    "normal_dist = stats.norm.pdf(x, loc=0, scale=1)\n",
    "\n",
    "plt.plot(x, normal_dist, label='Normal Distribution')\n",
    "plt.title('Probability Distribution')\n",
    "plt.legend()\n",
    "plt.show()"
   ]
  },
  {
   "cell_type": "markdown",
   "metadata": {},
   "source": [
    "### Practice Exercise\n",
    "Simulate 1000 coin flips using a binomial distribution and plot the results."
   ]
  },
  {
   "cell_type": "markdown",
   "metadata": {},
   "source": [
    "## Hypothesis Testing\n",
    "Hypothesis testing is a method to test assumptions about a population.\n",
    "\n",
    "### Steps:\n",
    "1. Define null (H0) and alternative (H1) hypotheses.\n",
    "2. Select a significance level (e.g., α=0.05).\n",
    "3. Calculate the test statistic and p-value.\n",
    "4. Decide to reject or fail to reject H0."
   ]
  },
  {
   "cell_type": "code",
   "execution_count": null,
   "metadata": {},
   "outputs": [],
   "source": [
    "# Example: One-sample t-test\n",
    "sample = [2.3, 2.5, 2.7, 2.6, 2.8]\n",
    "population_mean = 2.5\n",
    "t_stat, p_value = stats.ttest_1samp(sample, population_mean)\n",
    "\n",
    "print(f'T-Statistic: {t_stat}, P-Value: {p_value}')\n",
    "if p_value < 0.05:\n",
    "    print('Reject the null hypothesis')\n",
    "else:\n",
    "    print('Fail to reject the null hypothesis')"
   ]
  },
  {
   "cell_type": "markdown",
   "metadata": {},
   "source": [
    "### Practice Exercise\n",
    "Perform a two-sample t-test for the datasets: [1.2, 1.4, 1.6, 1.5] and [1.8, 1.9, 2.0, 1.7]."
   ]
  },
  {
   "cell_type": "markdown",
   "metadata": {},
   "source": [
    "## Regression Analysis\n",
    "Regression analysis examines the relationship between variables.\n",
    "\n",
    "### Types:\n",
    "1. **Linear Regression:** Relationship between two variables.\n",
    "2. **Multiple Regression:** Relationship involving multiple variables."
   ]
  },
  {
   "cell_type": "code",
   "execution_count": null,
   "metadata": {},
   "outputs": [],
   "source": [
    "from sklearn.linear_model import LinearRegression\n",
    "X = np.array([1, 2, 3, 4, 5]).reshape(-1, 1)\n",
    "y = np.array([2.2, 2.8, 3.6, 4.5, 5.1])\n",
    "model = LinearRegression().fit(X, y)\n",
    "print(f'Coefficient: {model.coef_[0]}')\n",
    "print(f'Intercept: {model.intercept_}')"
   ]
  },
  {
   "cell_type": "markdown",
   "metadata": {},
   "source": [
    "### Practice Exercise\n",
    "Fit a linear regression model to the dataset: X = [10, 20, 30], y = [15, 25, 35]."
   ]
  },
  {
   "cell_type": "markdown",
   "metadata": {},
   "source": [
    "## Data Visualization\n",
    "Data visualization involves representing data graphically to uncover patterns and insights.\n",
    "\n",
    "### Common Visualizations:\n",
    "- Line Plot\n",
    "- Bar Chart\n",
    "- Scatter Plot\n",
    "- Histogram"
   ]
  },
  {
   "cell_type": "code",
   "execution_count": null,
   "metadata": {},
   "outputs": [],
   "source": [
    "# Example: Scatter Plot\n",
    "x = np.random.rand(50)\n",
    "y = 2 * x + np.random.normal(0, 0.1, 50)\n",
    "plt.scatter(x, y, label='Data')\n",
    "plt.title('Scatter Plot Example')\n",
    "plt.legend()\n",
    "plt.show()"
   ]
  },
  {
   "cell_type": "markdown",
   "metadata": {},
   "source": [
    "### Practice Exercise\n",
    "Create a bar chart for the data: Categories = [\"A\", \"B\", \"C\"], Values = [10, 15, 7]."
   ]
  },
  {
   "cell_type": "markdown",
   "metadata": {},
   "source": [
    "Read more on statistics on [w3schools](https://www.w3schools.com/statistics/)"
   ]
  }
 ],
 "metadata": {
  "kernelspec": {
   "display_name": "Python 3",
   "language": "python",
   "name": "python3"
  },
  "language_info": {
   "codemirror_mode": {
    "name": "ipython",
    "version": 3
   },
   "file_extension": ".py",
   "mimetype": "text/x-python",
   "name": "python",
   "nbconvert_exporter": "python",
   "pygments_lexer": "ipython3",
   "version": "3.8"
  }
 },
 "nbformat": 4,
 "nbformat_minor": 4
}
