{
 "cells": [
  {
   "cell_type": "markdown",
   "id": "ac8d595f",
   "metadata": {
    "vscode": {
     "languageId": "plaintext"
    }
   },
   "source": [
    "# XGBoost Regression - Position Salary Prediction\n",
    "\n",
    "# 1. Introduction to XGBoost\n",
    "\n",
    "XGBoost (Extreme Gradient Boosting) is a powerful ensemble learning method\n",
    "based on decision trees. It builds models in a stepwise fashion and uses\n",
    "regularization to avoid overfitting. It's known for its speed and accuracy."
   ]
  },
  {
   "cell_type": "code",
   "execution_count": null,
   "id": "2b20355e",
   "metadata": {},
   "outputs": [],
   "source": [
    "# 2. Import Required Libraries\n",
    "\n",
    "import numpy as np\n",
    "import pandas as pd\n",
    "import matplotlib.pyplot as plt"
   ]
  },
  {
   "cell_type": "code",
   "execution_count": null,
   "id": "6ae89b23",
   "metadata": {},
   "outputs": [],
   "source": [
    "# 3. Load Dataset\n",
    "\n",
    "dataset = pd.read_csv('Position_Salaries.csv')\n",
    "X = dataset.iloc[:, 1:2].values  # Position level as feature\n",
    "y = dataset.iloc[:, 2].values   # Salary as target"
   ]
  },
  {
   "cell_type": "code",
   "execution_count": null,
   "id": "30d17451",
   "metadata": {},
   "outputs": [],
   "source": [
    "# 4. Fit XGBoost Regressor\n",
    "\n",
    "from xgboost import XGBRegressor\n",
    "\n",
    "regressor = XGBRegressor(n_estimators=100, learning_rate=0.1, random_state=0)\n",
    "regressor.fit(X, y)"
   ]
  },
  {
   "cell_type": "code",
   "execution_count": null,
   "id": "67d6043c",
   "metadata": {},
   "outputs": [],
   "source": [
    "# 5. Predict Salary at Level 6.5\n",
    "\n",
    "y_pred = regressor.predict([[6.5]])\n",
    "print(f\"Predicted salary for position level 6.5: {y_pred[0]}\")"
   ]
  },
  {
   "cell_type": "code",
   "execution_count": null,
   "id": "7e99d8b2",
   "metadata": {},
   "outputs": [],
   "source": [
    "# 6. Visualize the Results\n",
    "\n",
    "X_grid = np.arange(min(X), max(X), 0.01)  # High resolution for smooth curve\n",
    "X_grid = X_grid.reshape((len(X_grid), 1))\n",
    "\n",
    "plt.scatter(X, y, color='red', label='Actual')\n",
    "plt.plot(X_grid, regressor.predict(X_grid), color='blue', label='XGBoost Prediction')\n",
    "plt.title('Truth or Bluff (XGBoost Regression)')\n",
    "plt.xlabel('Position Level')\n",
    "plt.ylabel('Salary')\n",
    "plt.legend()\n",
    "plt.show()\n"
   ]
  },
  {
   "cell_type": "markdown",
   "id": "d9c075cb",
   "metadata": {},
   "source": []
  }
 ],
 "metadata": {
  "language_info": {
   "name": "python"
  }
 },
 "nbformat": 4,
 "nbformat_minor": 5
}
