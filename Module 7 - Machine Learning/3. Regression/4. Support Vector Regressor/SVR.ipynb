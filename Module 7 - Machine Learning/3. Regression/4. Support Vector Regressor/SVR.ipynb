{
 "cells": [
  {
   "cell_type": "markdown",
   "id": "451ee7cb",
   "metadata": {},
   "source": [
    "# 📓 **Support Vector Regression (SVR): Salary Prediction Based on Position Level**\n",
    "\n",
    "## **1. Introduction to SVR**\n",
    "\n",
    "- SVR is a type of Support Vector Machine (SVM) used for **regression** tasks.\n",
    "- Instead of trying to minimize prediction errors directly, SVR tries to fit the best curve **within a margin of tolerance** around the true data points.\n",
    "- The most important points (those closest to the margin) are called **Support Vectors** — they define the curve."
   ]
  },
  {
   "cell_type": "markdown",
   "id": "b01ecfa6",
   "metadata": {},
   "source": [
    "## **2. Importing Libraries**"
   ]
  },
  {
   "cell_type": "code",
   "execution_count": null,
   "id": "1bf43283",
   "metadata": {},
   "outputs": [],
   "source": [
    "import numpy as np\n",
    "import matplotlib.pyplot as plt\n",
    "import pandas as pd"
   ]
  },
  {
   "cell_type": "markdown",
   "id": "ff4e9b0a",
   "metadata": {},
   "source": [
    "## **3. Loading the Dataset**"
   ]
  },
  {
   "cell_type": "code",
   "execution_count": null,
   "id": "79db1a58",
   "metadata": {},
   "outputs": [],
   "source": [
    "dataset = pd.read_csv('Position_Salaries.csv')\n",
    "X = dataset.iloc[:, 1:2].values\n",
    "y = dataset.iloc[:, 2].values\n",
    "\n",
    "dataset.head()"
   ]
  },
  {
   "cell_type": "markdown",
   "id": "fc27c480",
   "metadata": {},
   "source": [
    "## **4. Feature Scaling**\n",
    "\n",
    "> **Important:** SVR models are sensitive to feature scales, so we must standardize both `X` and `y`."
   ]
  },
  {
   "cell_type": "code",
   "execution_count": null,
   "id": "edb707bd",
   "metadata": {},
   "outputs": [],
   "source": [
    "from sklearn.preprocessing import StandardScaler\n",
    "\n",
    "sc_X = StandardScaler()\n",
    "sc_y = StandardScaler()\n",
    "\n",
    "X = sc_X.fit_transform(X)\n",
    "y = sc_y.fit_transform(y.reshape(-1, 1))"
   ]
  },
  {
   "cell_type": "markdown",
   "id": "b479b433",
   "metadata": {},
   "source": [
    "## **5. Training the SVR Model**"
   ]
  },
  {
   "cell_type": "code",
   "execution_count": null,
   "id": "79949d30",
   "metadata": {},
   "outputs": [],
   "source": [
    "from sklearn.svm import SVR\n",
    "\n",
    "regressor = SVR(kernel='rbf')  # Radial Basis Function Kernel (best for non-linear problems)\n",
    "regressor.fit(X, y.ravel())"
   ]
  },
  {
   "cell_type": "markdown",
   "id": "795f5963",
   "metadata": {},
   "source": [
    "## **6. Predicting a New Result**"
   ]
  },
  {
   "cell_type": "code",
   "execution_count": null,
   "id": "c65fc9f1",
   "metadata": {},
   "outputs": [],
   "source": [
    "# Predict for position level 6.5\n",
    "scaled_pred = regressor.predict(sc_X.transform(np.array([[6.5]])))\n",
    "y_pred = sc_y.inverse_transform(scaled_pred.reshape(-1, 1))\n",
    "\n",
    "print(f\"Predicted salary for level 6.5: {y_pred[0,0]}\")"
   ]
  },
  {
   "cell_type": "markdown",
   "id": "29007214",
   "metadata": {},
   "source": [
    "## **7. Visualizing SVR Results**"
   ]
  },
  {
   "cell_type": "code",
   "execution_count": null,
   "id": "aa314773",
   "metadata": {},
   "outputs": [],
   "source": [
    "# Plotting real points\n",
    "plt.scatter(X, y, color='red')\n",
    "# Plotting predictions\n",
    "plt.plot(X, regressor.predict(X), color='blue')\n",
    "plt.title('Truth or Bluff (SVR)')\n",
    "plt.xlabel('Position Level (scaled)')\n",
    "plt.ylabel('Salary (scaled)')\n",
    "plt.show()"
   ]
  },
  {
   "cell_type": "markdown",
   "id": "0266741f",
   "metadata": {},
   "source": [
    "## **8. Visualizing SVR Results (Smooth Curve)**"
   ]
  },
  {
   "cell_type": "code",
   "execution_count": null,
   "id": "3153e639",
   "metadata": {},
   "outputs": [],
   "source": [
    "# High-resolution grid\n",
    "X_grid = np.arange(min(X), max(X), 0.01)\n",
    "X_grid = X_grid.reshape((len(X_grid), 1))\n",
    "\n",
    "plt.scatter(X, y, color='red')\n",
    "plt.plot(X_grid, regressor.predict(X_grid), color='blue')\n",
    "plt.title('Truth or Bluff (SVR - High Resolution)')\n",
    "plt.xlabel('Position Level (scaled)')\n",
    "plt.ylabel('Salary (scaled)')\n",
    "plt.show()"
   ]
  },
  {
   "cell_type": "markdown",
   "id": "c031e3f8",
   "metadata": {},
   "source": [
    "# ✅ **Summary:**\n",
    "- **SVR** fits the best curve within a margin rather than minimizing all errors.\n",
    "- It uses **support vectors** to define this margin.\n",
    "- Scaling features is very important.\n",
    "- We visualized the results using both normal and high-resolution plots."
   ]
  }
 ],
 "metadata": {
  "language_info": {
   "name": "python"
  }
 },
 "nbformat": 4,
 "nbformat_minor": 5
}
