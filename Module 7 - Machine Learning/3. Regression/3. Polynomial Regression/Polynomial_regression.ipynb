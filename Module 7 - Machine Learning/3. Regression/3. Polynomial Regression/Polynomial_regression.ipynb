{
 "cells": [
  {
   "cell_type": "markdown",
   "id": "c0949dd4",
   "metadata": {
    "vscode": {
     "languageId": "plaintext"
    }
   },
   "source": [
    "# **Polynomial Regression: Salary Prediction Based on Position Level**\n",
    "\n",
    "## **1. Introduction**\n",
    "In this notebook, we will implement a **Polynomial Regression** model to predict an employee's salary based on their position level.\n",
    "\n",
    "---\n",
    "\n",
    "## **2. Understanding Polynomial Regression**\n",
    "Polynomial Regression allows us to model non-linear relationships by transforming our features into higher-degree polynomials.\n",
    "\n",
    "---"
   ]
  },
  {
   "cell_type": "markdown",
   "id": "8215b36f",
   "metadata": {
    "vscode": {
     "languageId": "plaintext"
    }
   },
   "source": [
    "## **3. Importing Libraries**"
   ]
  },
  {
   "cell_type": "code",
   "execution_count": null,
   "id": "f5bdc262",
   "metadata": {},
   "outputs": [],
   "source": [
    "import numpy as np\n",
    "import matplotlib.pyplot as plt\n",
    "import pandas as pd"
   ]
  },
  {
   "cell_type": "markdown",
   "id": "43caf82f",
   "metadata": {},
   "source": [
    "## **4. Load the Dataset**"
   ]
  },
  {
   "cell_type": "code",
   "execution_count": null,
   "id": "c86f2da6",
   "metadata": {},
   "outputs": [],
   "source": [
    "# Load the dataset\n",
    "dataset = pd.read_csv('Position_Salaries.csv')\n",
    "X = dataset.iloc[:, 1:2].values  # Position level (keep as matrix)\n",
    "y = dataset.iloc[:, 2].values    # Salary\n",
    "\n",
    "# View first few rows\n",
    "dataset.head()"
   ]
  },
  {
   "cell_type": "markdown",
   "id": "97e07881",
   "metadata": {},
   "source": [
    "## **5. Training the Linear Regression Model**"
   ]
  },
  {
   "cell_type": "code",
   "execution_count": null,
   "id": "e6335d1e",
   "metadata": {},
   "outputs": [],
   "source": [
    "from sklearn.linear_model import LinearRegression\n",
    "\n",
    "# Fit Linear Regression to the dataset\n",
    "lin_reg = LinearRegression()\n",
    "lin_reg.fit(X, y)"
   ]
  },
  {
   "cell_type": "markdown",
   "id": "2271a987",
   "metadata": {},
   "source": [
    "## **6. Training the Polynomial Regression Model**\n"
   ]
  },
  {
   "cell_type": "code",
   "execution_count": null,
   "id": "248e7bc4",
   "metadata": {},
   "outputs": [],
   "source": [
    "from sklearn.preprocessing import PolynomialFeatures\n",
    "\n",
    "# Transform features to higher degree (polynomial)\n",
    "poly_reg = PolynomialFeatures(degree=4)\n",
    "X_poly = poly_reg.fit_transform(X)\n",
    "\n",
    "# Fit Linear Regression to transformed features\n",
    "lin_reg_2 = LinearRegression()\n",
    "lin_reg_2.fit(X_poly, y)"
   ]
  },
  {
   "cell_type": "markdown",
   "id": "3ac87254",
   "metadata": {},
   "source": [
    "## **7. Visualizing the Linear Regression Results**"
   ]
  },
  {
   "cell_type": "code",
   "execution_count": null,
   "id": "add08ddb",
   "metadata": {},
   "outputs": [],
   "source": [
    "plt.scatter(X, y, color='red')\n",
    "plt.plot(X, lin_reg.predict(X), color='blue')\n",
    "plt.title('Truth or Bluff (Linear Regression)')\n",
    "plt.xlabel('Position Level')\n",
    "plt.ylabel('Salary')\n",
    "plt.show()"
   ]
  },
  {
   "cell_type": "markdown",
   "id": "43a74d1b",
   "metadata": {},
   "source": [
    "## **8. Visualizing the Polynomial Regression Results**"
   ]
  },
  {
   "cell_type": "code",
   "execution_count": null,
   "id": "9af0f726",
   "metadata": {},
   "outputs": [],
   "source": [
    "plt.scatter(X, y, color='red')\n",
    "plt.plot(X, lin_reg_2.predict(poly_reg.fit_transform(X)), color='blue')\n",
    "plt.title('Truth or Bluff (Polynomial Regression)')\n",
    "plt.xlabel('Position Level')\n",
    "plt.ylabel('Salary')\n",
    "plt.show()"
   ]
  },
  {
   "cell_type": "markdown",
   "id": "0a44026d",
   "metadata": {},
   "source": [
    "## **9. Predicting a New Result**"
   ]
  },
  {
   "cell_type": "code",
   "execution_count": null,
   "id": "ebddf23d",
   "metadata": {},
   "outputs": [],
   "source": [
    "# Predicting with Linear Regression\n",
    "lin_pred = lin_reg.predict(np.array([[6.5]]))\n",
    "print(f\"Linear Regression Prediction for 6.5: {lin_pred[0]}\")\n",
    "\n",
    "# Predicting with Polynomial Regression\n",
    "poly_pred = lin_reg_2.predict(poly_reg.transform(np.array([[6.5]])))\n",
    "print(f\"Polynomial Regression Prediction for 6.5: {poly_pred[0]}\")\n"
   ]
  },
  {
   "cell_type": "markdown",
   "id": "51f11c48",
   "metadata": {},
   "source": [
    "## **10. Summary**\n",
    "- We compared Linear vs Polynomial Regression on the same dataset.\n",
    "- Polynomial Regression better fits non-linear data by adding polynomial features.\n",
    "- We visualized both models and made predictions."
   ]
  }
 ],
 "metadata": {
  "language_info": {
   "name": "python"
  }
 },
 "nbformat": 4,
 "nbformat_minor": 5
}
