{
 "cells": [
  {
   "cell_type": "markdown",
   "metadata": {},
   "source": [
    "# **Simple Linear Regression: Salary Prediction Based on Experience**\n",
    "\n",
    "## **1. Introduction**\n",
    "In this notebook, we will implement a **Simple Linear Regression** model to predict an employee's salary based on their years of experience. Simple Linear Regression is a fundamental machine learning technique used to model relationships between two continuous variables.\n",
    "\n",
    "We will take note of the following to achieve the simple linear regression:\n",
    "1. **Data Preprocessing**\n",
    "2. **Splitting Data into Training and Test Sets**\n",
    "3. **Training the Linear Regression Model**\n",
    "4. **Making Predictions**\n",
    "5. **Visualizing the Results**\n",
    "6. **Evaluating Model Performance**"
   ]
  },
  {
   "cell_type": "markdown",
   "metadata": {},
   "source": [
    "### **Step 1: Understanding Simple Linear Regression**\n",
    "Simple Linear Regression is used to establish a relationship between an independent variable (Years of Experience) and a dependent variable (Salary) using a straight-line equation."
   ]
  },
  {
   "cell_type": "markdown",
   "metadata": {},
   "source": [
    "### **Step 2: Importing the Necessary Libraries**\n",
    "We need libraries for numerical computations, data visualization, and dataset handling."
   ]
  },
  {
   "cell_type": "code",
   "execution_count": null,
   "metadata": {},
   "outputs": [],
   "source": [
    "import numpy as np  # For numerical computations\n",
    "import matplotlib.pyplot as plt  # For data visualization\n",
    "import pandas as pd  # For handling datasets"
   ]
  },
  {
   "cell_type": "markdown",
   "metadata": {},
   "source": [
    "### **Step 3: Load the Dataset**\n",
    "We use pandas to load the dataset into a DataFrame."
   ]
  },
  {
   "cell_type": "code",
   "execution_count": null,
   "metadata": {},
   "outputs": [],
   "source": [
    "dataset = pd.read_csv('Salary_Data.csv')\n",
    "\n",
    "# splitting the data into the independent and dependent set\n",
    "X = dataset.iloc[:, :-1].values  # Independent variable (Years of Experience)\n",
    "y = dataset.iloc[:, -1].values   # Dependent variable (Salary)"
   ]
  },
  {
   "cell_type": "markdown",
   "metadata": {},
   "source": [
    "### **Step 4: Splitting the Dataset into Training and Test Sets**\n",
    "Splitting ensures we train our model on one part of the data and test it on another part."
   ]
  },
  {
   "cell_type": "code",
   "execution_count": null,
   "metadata": {},
   "outputs": [],
   "source": [
    "from sklearn.model_selection import train_test_split  # Import when needed\n",
    "X_train, X_test, y_train, y_test = train_test_split(X, y, test_size=1/3, random_state=0, stratify=y)"
   ]
  },
  {
   "cell_type": "markdown",
   "metadata": {},
   "source": [
    "### **Step 5: Feature Scaling (Optional)**\n",
    "Feature scaling helps normalize data for better model performance.\n",
    "- It is not necessary for simple linear regression, but we include it for teaching purposes."
   ]
  },
  {
   "cell_type": "code",
   "execution_count": null,
   "metadata": {},
   "outputs": [],
   "source": [
    "from sklearn.preprocessing import StandardScaler\n",
    "sc_X = StandardScaler()\n",
    "X_train = sc_X.fit_transform(X_train)\n",
    "X_test = sc_X.transform(X_test)"
   ]
  },
  {
   "cell_type": "code",
   "execution_count": null,
   "metadata": {},
   "outputs": [],
   "source": [
    "# Scaling is usually not applied to the dependent variable in regression problems.\n",
    "# However, for demonstration, we include it but keep it commented.\n",
    "# sc_y = StandardScaler()\n",
    "# y_train = sc_y.fit_transform(y_train.reshape(-1,1))"
   ]
  },
  {
   "cell_type": "markdown",
   "metadata": {},
   "source": [
    "### **Step 6: Training the Simple Linear Regression Model**\n",
    "We use the LinearRegression class from sklearn to train the model."
   ]
  },
  {
   "cell_type": "code",
   "execution_count": null,
   "metadata": {},
   "outputs": [],
   "source": [
    "from sklearn.linear_model import LinearRegression\n",
    "regressor = LinearRegression()\n",
    "regressor.fit(X_train, y_train)"
   ]
  },
  {
   "cell_type": "markdown",
   "metadata": {},
   "source": [
    "### **Step 7: Making Predictions**\n",
    "The trained model is used to predict salaries for the test set."
   ]
  },
  {
   "cell_type": "code",
   "execution_count": null,
   "metadata": {},
   "outputs": [],
   "source": [
    "y_pred = regressor.predict(X_test)"
   ]
  },
  {
   "cell_type": "markdown",
   "metadata": {},
   "source": [
    "### Step 8: Visualizing the Training Set Results\n",
    "A scatter plot helps us understand the actual data points, and the regression line shows the model’s prediction.\n"
   ]
  },
  {
   "cell_type": "code",
   "execution_count": null,
   "metadata": {},
   "outputs": [],
   "source": [
    "plt.scatter(X_train, y_train, color='red')  # Actual salaries\n",
    "plt.plot(X_train, regressor.predict(X_train), color='blue')  # Regression line\n",
    "plt.title('Salary vs Experience (Training Set)')\n",
    "plt.xlabel('Years of Experience')\n",
    "plt.ylabel('Salary')\n",
    "plt.show()"
   ]
  },
  {
   "cell_type": "markdown",
   "metadata": {},
   "source": [
    "### **Step 9: Visualizing the Test Set Results**\n",
    "The same approach is used to compare actual vs predicted salaries in the test set.\n"
   ]
  },
  {
   "cell_type": "code",
   "execution_count": null,
   "metadata": {},
   "outputs": [],
   "source": [
    "plt.scatter(X_test, y_test, color='red')  # Actual salaries\n",
    "plt.plot(X_train, regressor.predict(X_train), color='blue')  # Regression line\n",
    "plt.title('Salary vs Experience (Test Set)')\n",
    "plt.xlabel('Years of Experience')\n",
    "plt.ylabel('Salary')\n",
    "plt.show()"
   ]
  },
  {
   "cell_type": "markdown",
   "metadata": {},
   "source": [
    "### **Step 10: Evaluating Model Performance**\n",
    "We use three metrics to assess how well our model performs.\n"
   ]
  },
  {
   "cell_type": "code",
   "execution_count": null,
   "metadata": {},
   "outputs": [],
   "source": [
    "from sklearn.metrics import mean_absolute_error, mean_squared_error, r2_score  # Import when needed\n",
    "mae = mean_absolute_error(y_test, y_pred)  # Measures absolute difference between actual and predicted values\n",
    "mse = mean_squared_error(y_test, y_pred)  # Measures the squared difference (penalizes large errors more)\n",
    "r2 = r2_score(y_test, y_pred)  # Measures how well the model explains variance in the data\n"
   ]
  },
  {
   "cell_type": "code",
   "execution_count": null,
   "metadata": {},
   "outputs": [],
   "source": [
    "# Printing performance metrics\n",
    "print(f\"Mean Absolute Error (MAE): {mae}\")\n",
    "print(f\"Mean Squared Error (MSE): {mse}\")\n",
    "print(f\"R-squared Score (R²): {r2}\")"
   ]
  },
  {
   "cell_type": "markdown",
   "metadata": {},
   "source": [
    "### **Summary**\n",
    "- We built a Simple Linear Regression model to predict salary based on experience.\n",
    "- We trained the model, made predictions, visualized results, and evaluated its performance."
   ]
  }
 ],
 "metadata": {
  "language_info": {
   "name": "python"
  }
 },
 "nbformat": 4,
 "nbformat_minor": 2
}
