{
 "cells": [
  {
   "cell_type": "markdown",
   "id": "ed33e4eb",
   "metadata": {},
   "source": [
    "\n",
    "# NumPy: Arrays and Operations\n",
    "\n",
    "---\n",
    "\n",
    "## Introduction\n",
    "\n",
    "NumPy (Numerical Python) is a powerful library for numerical computing in Python. It provides support for large multi-dimensional arrays and matrices, along with a collection of mathematical functions to operate on these arrays.\n",
    "\n",
    "In this notebook, you will learn:\n",
    "\n",
    "- How to create NumPy arrays\n",
    "- Array properties such as shape and dimensions\n",
    "- Indexing and slicing arrays\n",
    "- Performing mathematical operations and aggregations\n",
    "- Reshaping and broadcasting\n",
    "\n",
    "We will also explore use cases in data science and provide exercises to help solidify your understanding.\n",
    "    "
   ]
  },
  {
   "cell_type": "markdown",
   "id": "f1a46da4",
   "metadata": {},
   "source": [
    "\n",
    "## Creating NumPy Arrays\n",
    "\n",
    "NumPy arrays can be created from lists or using built-in functions like `arange`, `linspace`, and random generators.\n",
    "\n",
    "### Examples\n",
    "    "
   ]
  },
  {
   "cell_type": "code",
   "execution_count": null,
   "id": "36daba46",
   "metadata": {},
   "outputs": [],
   "source": [
    "\n",
    "import numpy as np\n",
    "\n",
    "# Create arrays from lists\n",
    "array_from_list = np.array([1, 2, 3, 4, 5])\n",
    "\n",
    "# Create arrays using arange and linspace\n",
    "array_arange = np.arange(0, 10, 2)\n",
    "array_linspace = np.linspace(0, 1, 5)\n",
    "\n",
    "# Create random arrays\n",
    "random_array = np.random.random((2, 3))\n",
    "\n",
    "print(\"Array from list:\", array_from_list)\n",
    "print(\"Array using arange:\", array_arange)\n",
    "print(\"Array using linspace:\", array_linspace)\n",
    "print(\"Random array:\", random_array)\n",
    "    "
   ]
  },
  {
   "cell_type": "markdown",
   "id": "e5f6c7b7",
   "metadata": {},
   "source": [
    "\n",
    "### Exercise\n",
    "\n",
    "1. Create a 1D array of integers from 10 to 50 (inclusive) with a step of 5.\n",
    "2. Generate a 2D array of random numbers with 3 rows and 4 columns.\n",
    "3. Use `linspace` to create an array of 10 evenly spaced numbers between 0 and 100.\n",
    "    "
   ]
  },
  {
   "cell_type": "markdown",
   "id": "7dc8bd99",
   "metadata": {},
   "source": [
    "\n",
    "## Array Shape and Dimensions\n",
    "\n",
    "### Overview\n",
    "\n",
    "- `shape`: Returns the dimensions of the array as a tuple.\n",
    "- `ndim`: Returns the number of dimensions.\n",
    "\n",
    "### Example\n",
    "    "
   ]
  },
  {
   "cell_type": "code",
   "execution_count": null,
   "id": "5b25fe8f",
   "metadata": {},
   "outputs": [],
   "source": [
    "\n",
    "# Create a 2D array\n",
    "array_2d = np.array([[1, 2, 3], [4, 5, 6]])\n",
    "\n",
    "# Get the shape and number of dimensions\n",
    "print(\"Array:\", array_2d)\n",
    "print(\"Shape:\", array_2d.shape)\n",
    "print(\"Number of dimensions:\", array_2d.ndim)\n",
    "    "
   ]
  },
  {
   "cell_type": "markdown",
   "id": "c9b24bed",
   "metadata": {},
   "source": [
    "\n",
    "### Exercise\n",
    "\n",
    "1. Create a 3D array and print its shape and number of dimensions.\n",
    "2. Convert a 1D array into a 2D array and verify its shape.\n",
    "    "
   ]
  },
  {
   "cell_type": "markdown",
   "id": "3539c248",
   "metadata": {},
   "source": [
    "\n",
    "## Indexing and Slicing\n",
    "\n",
    "### Overview\n",
    "\n",
    "NumPy arrays support advanced indexing and slicing for efficient data access.\n",
    "\n",
    "### Examples\n",
    "    "
   ]
  },
  {
   "cell_type": "code",
   "execution_count": null,
   "id": "89c64196",
   "metadata": {},
   "outputs": [],
   "source": [
    "\n",
    "# Create an array\n",
    "array = np.array([10, 20, 30, 40, 50])\n",
    "\n",
    "# Indexing\n",
    "print(\"First element:\", array[0])\n",
    "print(\"Last element:\", array[-1])\n",
    "\n",
    "# Slicing\n",
    "print(\"First three elements:\", array[:3])\n",
    "print(\"Elements from index 1 to 3:\", array[1:4])\n",
    "\n",
    "# 2D slicing\n",
    "array_2d = np.array([[1, 2, 3], [4, 5, 6], [7, 8, 9]])\n",
    "print(\"First row:\", array_2d[0])\n",
    "print(\"Second column:\", array_2d[:, 1])\n",
    "print(\"Subarray:\", array_2d[1:, 1:])\n",
    "    "
   ]
  },
  {
   "cell_type": "markdown",
   "id": "a48cb1b8",
   "metadata": {},
   "source": [
    "\n",
    "### Exercise\n",
    "\n",
    "1. Create a 2D array and extract the second row.\n",
    "2. Slice a 3x3 array to get the bottom-right 2x2 subarray.\n",
    "3. Reverse the elements of a 1D array using slicing.\n",
    "    "
   ]
  },
  {
   "cell_type": "markdown",
   "id": "de0b9e92",
   "metadata": {},
   "source": [
    "\n",
    "## Mathematical Operations and Aggregations\n",
    "\n",
    "### Overview\n",
    "\n",
    "NumPy supports element-wise operations and aggregation functions like `sum`, `mean`, and `max`.\n",
    "\n",
    "### Examples\n",
    "    "
   ]
  },
  {
   "cell_type": "code",
   "execution_count": null,
   "id": "43e8e8fc",
   "metadata": {},
   "outputs": [],
   "source": [
    "\n",
    "# Element-wise operations\n",
    "array = np.array([1, 2, 3, 4])\n",
    "print(\"Original array:\", array)\n",
    "print(\"Array squared:\", array ** 2)\n",
    "print(\"Array doubled:\", array * 2)\n",
    "\n",
    "# Aggregation functions\n",
    "print(\"Sum of elements:\", np.sum(array))\n",
    "print(\"Mean of elements:\", np.mean(array))\n",
    "print(\"Max element:\", np.max(array))\n",
    "    "
   ]
  },
  {
   "cell_type": "markdown",
   "id": "bb269370",
   "metadata": {},
   "source": [
    "\n",
    "### Exercise\n",
    "\n",
    "1. Create an array and calculate the sum, mean, and standard deviation.\n",
    "2. Perform element-wise addition and multiplication on two arrays.\n",
    "3. Find the minimum value and its index in a given array.\n",
    "    "
   ]
  },
  {
   "cell_type": "markdown",
   "id": "cf2e30c3",
   "metadata": {},
   "source": [
    "\n",
    "## Reshaping and Broadcasting\n",
    "\n",
    "### Overview\n",
    "\n",
    "- **Reshaping**: Changing the dimensions of an array using `reshape`.\n",
    "- **Broadcasting**: Automatically expanding arrays for operations between arrays of different shapes.\n",
    "\n",
    "### Examples\n",
    "    "
   ]
  },
  {
   "cell_type": "code",
   "execution_count": null,
   "id": "084cd986",
   "metadata": {},
   "outputs": [],
   "source": [
    "\n",
    "# Reshaping an array\n",
    "array = np.arange(1, 13)\n",
    "reshaped_array = array.reshape(3, 4)\n",
    "print(\"Original array:\", array)\n",
    "print(\"Reshaped array:\", reshaped_array)\n",
    "\n",
    "# Broadcasting\n",
    "array_1d = np.array([1, 2, 3, 4])\n",
    "array_2d = np.array([[10], [20], [30]])\n",
    "broadcasted_sum = array_2d + array_1d\n",
    "print(\"Broadcasted sum:\", broadcasted_sum)\n",
    "    "
   ]
  },
  {
   "cell_type": "markdown",
   "id": "22fced05",
   "metadata": {},
   "source": [
    "\n",
    "### Exercise\n",
    "\n",
    "1. Reshape a 1D array into a 3x3 array.\n",
    "2. Use broadcasting to add a 1D array to each row of a 2D array.\n",
    "3. Multiply a column vector with a row vector using broadcasting.\n",
    "    "
   ]
  },
  {
   "cell_type": "markdown",
   "id": "0e7afc80",
   "metadata": {},
   "source": [
    "\n",
    "## Use Case in Data Science\n",
    "\n",
    "NumPy arrays are extensively used in data science for:\n",
    "\n",
    "- Efficient numerical computations (e.g., calculating summary statistics).\n",
    "- Data preparation and transformation (e.g., reshaping and cleaning data).\n",
    "- Handling multi-dimensional datasets (e.g., images, time-series data).\n",
    "\n",
    "### Example Use Case\n",
    "    "
   ]
  },
  {
   "cell_type": "code",
   "execution_count": null,
   "id": "8bb93b3a",
   "metadata": {},
   "outputs": [],
   "source": [
    "\n",
    "# Example: Normalizing a dataset using NumPy\n",
    "dataset = np.array([[50, 20, 30], [40, 60, 80], [90, 70, 50]])\n",
    "mean = np.mean(dataset, axis=0)\n",
    "std = np.std(dataset, axis=0)\n",
    "normalized_dataset = (dataset - mean) / std\n",
    "print(\"Normalized dataset:\", normalized_dataset)\n",
    "    "
   ]
  },
  {
   "cell_type": "markdown",
   "id": "2c71aedb",
   "metadata": {},
   "source": [
    "\n",
    "### Exercise\n",
    "\n",
    "1. Normalize a 2D dataset column-wise.\n",
    "2. Calculate the pairwise differences between rows in a dataset using broadcasting.\n",
    "3. Create a 3D array to represent image data (e.g., RGB values) and calculate the mean intensity.\n",
    "    "
   ]
  },
  {
   "cell_type": "markdown",
   "id": "ef609b4f",
   "metadata": {},
   "source": [
    "\n",
    "## Summary\n",
    "\n",
    "In this notebook, you learned about:\n",
    "\n",
    "- Creating and manipulating NumPy arrays\n",
    "- Indexing, slicing, and reshaping arrays\n",
    "- Performing mathematical operations and using broadcasting\n",
    "\n",
    "These skills are foundational for data science tasks involving numerical data.\n",
    "\n",
    "---\n",
    "\n",
    "### Final Exercise\n",
    "\n",
    "1. Create a 2D dataset and calculate the row-wise and column-wise means.\n",
    "2. Perform broadcasting to subtract the mean of each column from the dataset.\n",
    "3. Write a function to compute the Euclidean distance between two 1D arrays using NumPy.\n",
    "    "
   ]
  }
 ],
 "metadata": {
  "language_info": {
   "name": "python"
  }
 },
 "nbformat": 4,
 "nbformat_minor": 5
}
