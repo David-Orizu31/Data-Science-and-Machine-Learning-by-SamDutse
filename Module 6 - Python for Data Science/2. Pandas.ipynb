{
 "cells": [
  {
   "cell_type": "markdown",
   "id": "b10068e0",
   "metadata": {},
   "source": [
    "\n",
    "# Pandas: DataFrames and Data Manipulation\n",
    "\n",
    "---\n",
    "\n",
    "## Introduction\n",
    "\n",
    "Pandas is a powerful Python library for data analysis and manipulation. It provides data structures like Series and DataFrames, which are essential for handling structured data.\n",
    "\n",
    "In this notebook, you will learn about:\n",
    "\n",
    "- Creating and exploring Pandas Series and DataFrames\n",
    "- Manipulating data: Filtering, sorting, and grouping\n",
    "- Handling missing data\n",
    "- Merging and joining DataFrames\n",
    "\n",
    "Use cases in data science and exercises are included to help you practice and understand.\n",
    "    "
   ]
  },
  {
   "cell_type": "markdown",
   "id": "9fbce6c5",
   "metadata": {},
   "source": [
    "\n",
    "## Pandas Series and DataFrames\n",
    "\n",
    "### Overview\n",
    "\n",
    "- **Series**: A one-dimensional labeled array.\n",
    "- **DataFrame**: A two-dimensional labeled data structure.\n",
    "\n",
    "### Examples\n",
    "    "
   ]
  },
  {
   "cell_type": "code",
   "execution_count": null,
   "id": "99cac5f6",
   "metadata": {},
   "outputs": [],
   "source": [
    "\n",
    "import pandas as pd\n",
    "\n",
    "# Creating a Series\n",
    "data = [10, 20, 30, 40]\n",
    "series = pd.Series(data, index=['A', 'B', 'C', 'D'])\n",
    "print(\"Pandas Series:\", series)\n",
    "\n",
    "# Creating a DataFrame\n",
    "data = {'Name': ['Alice', 'Bob', 'Charlie'],\n",
    "        'Age': [25, 30, 35],\n",
    "        'Salary': [50000, 60000, 70000]}\n",
    "df = pd.DataFrame(data)\n",
    "print(\"Pandas DataFrame:\", df)\n",
    "    "
   ]
  },
  {
   "cell_type": "markdown",
   "id": "b84a7970",
   "metadata": {},
   "source": [
    "\n",
    "### Exercise\n",
    "\n",
    "1. Create a Pandas Series representing the population of four cities.\n",
    "2. Create a DataFrame with columns for \"Product\", \"Price\", and \"Quantity\".\n",
    "3. Add a new column to the DataFrame that calculates the total cost (Price × Quantity).\n",
    "    "
   ]
  },
  {
   "cell_type": "markdown",
   "id": "ab075041",
   "metadata": {},
   "source": [
    "\n",
    "## Data Manipulation: Filtering, Sorting, and Grouping\n",
    "\n",
    "### Overview\n",
    "\n",
    "Pandas provides powerful functions to filter, sort, and group data for analysis.\n",
    "\n",
    "### Examples\n",
    "    "
   ]
  },
  {
   "cell_type": "code",
   "execution_count": null,
   "id": "58616b0e",
   "metadata": {},
   "outputs": [],
   "source": [
    "\n",
    "# Filtering data\n",
    "filtered_df = df[df['Age'] > 25]\n",
    "print(\"Filtered DataFrame:\", filtered_df)\n",
    "\n",
    "# Sorting data\n",
    "sorted_df = df.sort_values(by='Salary', ascending=False)\n",
    "print(\"Sorted DataFrame:\", sorted_df)\n",
    "\n",
    "# Grouping data\n",
    "grouped_data = df.groupby('Age')['Salary'].mean()\n",
    "print(\"Grouped Data:\", grouped_data)\n",
    "    "
   ]
  },
  {
   "cell_type": "markdown",
   "id": "cb5d1917",
   "metadata": {},
   "source": [
    "\n",
    "### Exercise\n",
    "\n",
    "1. Filter a DataFrame to show only rows where the \"Salary\" is greater than 55000.\n",
    "2. Sort a DataFrame by multiple columns (e.g., \"Age\" and \"Salary\").\n",
    "3. Group a DataFrame by a categorical column and calculate the sum of another column.\n",
    "    "
   ]
  },
  {
   "cell_type": "markdown",
   "id": "b90f8ec3",
   "metadata": {},
   "source": [
    "\n",
    "## Handling Missing Data\n",
    "\n",
    "### Overview\n",
    "\n",
    "Missing data is common in datasets. Pandas provides functions to handle missing values, such as:\n",
    "\n",
    "- `isna()`: Detect missing values.\n",
    "- `fillna()`: Fill missing values with a specified value or method.\n",
    "- `dropna()`: Remove missing values.\n",
    "\n",
    "### Examples\n",
    "    "
   ]
  },
  {
   "cell_type": "code",
   "execution_count": null,
   "id": "4481b0b7",
   "metadata": {},
   "outputs": [],
   "source": [
    "\n",
    "# Handling missing data\n",
    "data_with_missing = {'Name': ['Alice', 'Bob', None], 'Age': [25, None, 35], 'Salary': [50000, 60000, None]}\n",
    "df_missing = pd.DataFrame(data_with_missing)\n",
    "print(\"Original DataFrame with missing values:\", df_missing)\n",
    "\n",
    "# Filling missing values\n",
    "filled_df = df_missing.fillna({'Age': 30, 'Salary': 0})\n",
    "print(\"DataFrame after filling missing values:\", filled_df)\n",
    "\n",
    "# Dropping missing values\n",
    "dropped_df = df_missing.dropna()\n",
    "print(\"DataFrame after dropping missing values:\", dropped_df)    "
   ]
  },
  {
   "cell_type": "markdown",
   "id": "1724407b",
   "metadata": {},
   "source": [
    "\n",
    "### Exercise\n",
    "\n",
    "1. Create a DataFrame with missing values and fill them using the mean of the column.\n",
    "2. Drop rows with any missing values from a DataFrame.\n",
    "3. Replace missing values in a Series with a constant value.\n",
    "    "
   ]
  },
  {
   "cell_type": "markdown",
   "id": "9fca4ca8",
   "metadata": {},
   "source": [
    "\n",
    "## Merging and Joining DataFrames\n",
    "\n",
    "### Overview\n",
    "\n",
    "Pandas allows combining multiple DataFrames using:\n",
    "\n",
    "- `merge()`: Combines DataFrames based on keys.\n",
    "- `join()`: Combines DataFrames on index.\n",
    "- `concat()`: Concatenates DataFrames along a particular axis.\n",
    "\n",
    "### Examples\n",
    "    "
   ]
  },
  {
   "cell_type": "code",
   "execution_count": null,
   "id": "c8b9c2c8",
   "metadata": {},
   "outputs": [],
   "source": [
    "\n",
    "# Merging DataFrames\n",
    "df1 = pd.DataFrame({'ID': [1, 2], 'Name': ['Alice', 'Bob']})\n",
    "df2 = pd.DataFrame({'ID': [1, 2], 'Salary': [50000, 60000]})\n",
    "merged_df = pd.merge(df1, df2, on='ID')\n",
    "print(\"Merged DataFrame:\", merged_df)\n",
    "\n",
    "# Joining DataFrames\n",
    "df3 = pd.DataFrame({'Age': [25, 30]}, index=['Alice', 'Bob'])\n",
    "joined_df = df1.set_index('Name').join(df3)\n",
    "print(\"Joined DataFrame:\", joined_df)\n",
    "\n",
    "# Concatenating DataFrames\n",
    "concat_df = pd.concat([df1, df2], axis=0, ignore_index=True)\n",
    "print(\"Concatenated DataFrame:\", concat_df)    "
   ]
  },
  {
   "cell_type": "markdown",
   "id": "69b40767",
   "metadata": {},
   "source": [
    "\n",
    "### Exercise\n",
    "\n",
    "1. Merge two DataFrames with different keys and explore the `how` parameter (e.g., `left`, `right`, `outer`, `inner`).\n",
    "2. Join two DataFrames on their index and add a new column.\n",
    "3. Concatenate three DataFrames along rows and reset the index.\n",
    "    "
   ]
  },
  {
   "cell_type": "markdown",
   "id": "8f17629c",
   "metadata": {},
   "source": [
    "\n",
    "## Use Case in Data Science\n",
    "\n",
    "Pandas is used in data science for:\n",
    "\n",
    "- Cleaning and preprocessing data\n",
    "- Exploratory data analysis (EDA)\n",
    "- Aggregating and summarizing data for insights\n",
    "\n",
    "### Example Use Case\n",
    "    "
   ]
  },
  {
   "cell_type": "code",
   "execution_count": null,
   "id": "73c97e15",
   "metadata": {},
   "outputs": [],
   "source": [
    "# Example: Analyzing sales data\n",
    "sales_data = {'Product': ['A', 'B', 'A', 'B'],\n",
    "              'Region': ['North', 'South', 'South', 'North'],\n",
    "              'Sales': [200, 150, 100, 250]}\n",
    "df_sales = pd.DataFrame(sales_data)\n",
    "\n",
    "# Total sales by region\n",
    "sales_by_region = df_sales.groupby('Region')['Sales'].sum()\n",
    "print(\"Total sales by region:\", sales_by_region)\n",
    "\n",
    "# Fill missing sales with the mean\n",
    "df_sales['Sales'] = df_sales['Sales'].fillna(df_sales['Sales'].mean())    "
   ]
  },
  {
   "cell_type": "markdown",
   "id": "d15add6d",
   "metadata": {},
   "source": [
    "\n",
    "### Exercise\n",
    "\n",
    "1. Create a DataFrame representing a sales dataset with columns for \"Product\", \"Region\", and \"Sales\".\n",
    "2. Group the dataset by \"Product\" and calculate the total sales.\n",
    "3. Merge two DataFrames representing sales and inventory data.\n",
    "    "
   ]
  },
  {
   "cell_type": "markdown",
   "id": "e28941df",
   "metadata": {},
   "source": [
    "\n",
    "## Summary\n",
    "\n",
    "In this notebook, you learned about:\n",
    "\n",
    "- Creating and exploring Pandas Series and DataFrames\n",
    "- Manipulating data: Filtering, sorting, and grouping\n",
    "- Handling missing data\n",
    "- Merging and joining DataFrames\n",
    "\n",
    "These skills are essential for working with structured data in data science.\n",
    "\n",
    "---\n",
    "\n",
    "### Final Exercise\n",
    "\n",
    "1. Create a DataFrame representing student test scores with columns for \"Name\", \"Subject\", and \"Score\".\n",
    "2. Calculate the average score for each subject and sort the results in descending order.\n",
    "3. Merge two DataFrames: one containing student details and another containing their scores.\n",
    "    "
   ]
  }
 ],
 "metadata": {
  "language_info": {
   "name": "python"
  }
 },
 "nbformat": 4,
 "nbformat_minor": 5
}
