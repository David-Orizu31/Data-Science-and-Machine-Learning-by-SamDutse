{
 "cells": [
  {
   "cell_type": "markdown",
   "id": "80e18b36",
   "metadata": {},
   "source": [
    "\n",
    "# Matplotlib: Basic Visualization and Customization\n",
    "\n",
    "---\n",
    "\n",
    "## Introduction\n",
    "\n",
    "Matplotlib is a powerful Python library for creating static, interactive, and animated visualizations. It is widely used in data science for data exploration and communication.\n",
    "\n",
    "In this notebook, you will learn about:\n",
    "\n",
    "- Creating basic visualizations: Line plots, bar charts, and scatter plots\n",
    "- Customizing plots with titles, labels, legends, and colors\n",
    "\n",
    "Use cases in data science and exercises are included to help you practice and understand.\n",
    "    "
   ]
  },
  {
   "cell_type": "markdown",
   "id": "943a953f",
   "metadata": {},
   "source": [
    "\n",
    "## Basic Visualizations\n",
    "\n",
    "### Line Plot\n",
    "\n",
    "A line plot is used to display data points connected by lines, often representing trends.\n",
    "\n",
    "### Example\n",
    "    "
   ]
  },
  {
   "cell_type": "code",
   "execution_count": null,
   "id": "c4491eca",
   "metadata": {},
   "outputs": [],
   "source": [
    "\n",
    "import matplotlib.pyplot as plt\n",
    "\n",
    "# Data for the line plot\n",
    "x = [1, 2, 3, 4, 5]\n",
    "y = [2, 4, 6, 8, 10]\n",
    "\n",
    "# Create the line plot\n",
    "plt.plot(x, y, marker='o', linestyle='-', color='blue')\n",
    "plt.title(\"Line Plot Example\")\n",
    "plt.xlabel(\"X-axis Label\")\n",
    "plt.ylabel(\"Y-axis Label\")\n",
    "plt.grid(True)\n",
    "plt.show()\n",
    "    "
   ]
  },
  {
   "cell_type": "markdown",
   "id": "12e5f766",
   "metadata": {},
   "source": [
    "\n",
    "### Exercise\n",
    "\n",
    "1. Create a line plot of the function y = x² for x values from -10 to 10.\n",
    "2. Add a grid and title to your plot.\n",
    "3. Experiment with different line styles and markers.\n",
    "    "
   ]
  },
  {
   "cell_type": "markdown",
   "id": "43261ae4",
   "metadata": {},
   "source": [
    "\n",
    "## Bar Chart\n",
    "\n",
    "Bar charts are used to display categorical data with rectangular bars.\n",
    "\n",
    "### Example\n",
    "    "
   ]
  },
  {
   "cell_type": "code",
   "execution_count": null,
   "id": "8a704a07",
   "metadata": {},
   "outputs": [],
   "source": [
    "\n",
    "# Data for the bar chart\n",
    "categories = ['A', 'B', 'C', 'D']\n",
    "values = [10, 20, 15, 25]\n",
    "\n",
    "# Create the bar chart\n",
    "plt.bar(categories, values, color='orange')\n",
    "plt.title(\"Bar Chart Example\")\n",
    "plt.xlabel(\"Categories\")\n",
    "plt.ylabel(\"Values\")\n",
    "plt.show()\n",
    "    "
   ]
  },
  {
   "cell_type": "markdown",
   "id": "8636faba",
   "metadata": {},
   "source": [
    "\n",
    "### Exercise\n",
    "\n",
    "1. Create a bar chart showing the sales of 5 products.\n",
    "2. Add labels to the bars indicating their values.\n",
    "3. Customize the color of each bar.\n",
    "    "
   ]
  },
  {
   "cell_type": "markdown",
   "id": "8ca06073",
   "metadata": {},
   "source": [
    "\n",
    "## Scatter Plot\n",
    "\n",
    "Scatter plots are used to display relationships between two variables.\n",
    "\n",
    "### Example\n",
    "    "
   ]
  },
  {
   "cell_type": "code",
   "execution_count": null,
   "id": "6f96b72d",
   "metadata": {},
   "outputs": [],
   "source": [
    "\n",
    "# Data for the scatter plot\n",
    "x = [5, 7, 8, 7, 2, 17, 2, 9, 4, 11]\n",
    "y = [99, 86, 87, 88, 100, 86, 103, 87, 94, 78]\n",
    "\n",
    "# Create the scatter plot\n",
    "plt.scatter(x, y, color='green', marker='o')\n",
    "plt.title(\"Scatter Plot Example\")\n",
    "plt.xlabel(\"X-axis Label\")\n",
    "plt.ylabel(\"Y-axis Label\")\n",
    "plt.show()\n",
    "    "
   ]
  },
  {
   "cell_type": "markdown",
   "id": "9cb89bc6",
   "metadata": {},
   "source": [
    "\n",
    "### Exercise\n",
    "\n",
    "1. Create a scatter plot showing the relationship between study hours and test scores.\n",
    "2. Experiment with different marker styles and sizes.\n",
    "3. Add a trendline to your scatter plot.\n",
    "    "
   ]
  },
  {
   "cell_type": "markdown",
   "id": "87b64eda",
   "metadata": {},
   "source": [
    "\n",
    "## Customization\n",
    "\n",
    "### Titles, Labels, and Legends\n",
    "\n",
    "Customizing plots enhances their readability and aesthetic appeal.\n",
    "\n",
    "### Example\n",
    "    "
   ]
  },
  {
   "cell_type": "code",
   "execution_count": null,
   "id": "2bd7a9b3",
   "metadata": {},
   "outputs": [],
   "source": [
    "\n",
    "# Data for customization example\n",
    "x = [1, 2, 3, 4, 5]\n",
    "y1 = [1, 4, 9, 16, 25]\n",
    "y2 = [2, 4, 6, 8, 10]\n",
    "\n",
    "# Create multiple plots with customization\n",
    "plt.plot(x, y1, label='y = x^2', color='blue', linestyle='--', marker='o')\n",
    "plt.plot(x, y2, label='y = 2x', color='red', linestyle='-', marker='x')\n",
    "plt.title(\"Customized Plot Example\")\n",
    "plt.xlabel(\"X-axis\")\n",
    "plt.ylabel(\"Y-axis\")\n",
    "plt.legend()\n",
    "plt.grid(True)\n",
    "plt.show()\n",
    "    "
   ]
  },
  {
   "cell_type": "markdown",
   "id": "90aa7abd",
   "metadata": {},
   "source": [
    "\n",
    "### Exercise\n",
    "\n",
    "1. Add a legend to a line plot comparing two functions.\n",
    "2. Use different colors and line styles for each function.\n",
    "3. Add appropriate titles and axis labels.\n",
    "    "
   ]
  },
  {
   "cell_type": "markdown",
   "id": "08c88c88",
   "metadata": {},
   "source": [
    "\n",
    "## Colors\n",
    "\n",
    "Colors can be used to differentiate data points and make plots more visually appealing.\n",
    "\n",
    "### Example\n",
    "    "
   ]
  },
  {
   "cell_type": "code",
   "execution_count": null,
   "id": "2e8ceee3",
   "metadata": {},
   "outputs": [],
   "source": [
    "\n",
    "# Data for color customization example\n",
    "categories = ['A', 'B', 'C', 'D']\n",
    "values = [15, 25, 35, 20]\n",
    "colors = ['red', 'blue', 'green', 'purple']\n",
    "\n",
    "# Create a bar chart with custom colors\n",
    "plt.bar(categories, values, color=colors)\n",
    "plt.title(\"Bar Chart with Custom Colors\")\n",
    "plt.xlabel(\"Categories\")\n",
    "plt.ylabel(\"Values\")\n",
    "plt.show()\n",
    "    "
   ]
  },
  {
   "cell_type": "markdown",
   "id": "32ac2d3c",
   "metadata": {},
   "source": [
    "\n",
    "### Exercise\n",
    "\n",
    "1. Create a bar chart with unique colors for each bar.\n",
    "2. Customize the colors in a scatter plot to represent a third variable (e.g., size of data points).\n",
    "3. Experiment with color maps for continuous data in line plots.\n",
    "    "
   ]
  },
  {
   "cell_type": "markdown",
   "id": "fe8fc517",
   "metadata": {},
   "source": [
    "\n",
    "## Use Case in Data Science\n",
    "\n",
    "Matplotlib is widely used in data science for:\n",
    "\n",
    "- Visualizing trends and patterns in data\n",
    "- Comparing categories or variables\n",
    "- Communicating findings effectively\n",
    "\n",
    "### Example Use Case: Sales Analysis\n",
    "    "
   ]
  },
  {
   "cell_type": "code",
   "execution_count": null,
   "id": "9acb176a",
   "metadata": {},
   "outputs": [],
   "source": [
    "\n",
    "# Example: Visualizing sales data\n",
    "products = ['Product A', 'Product B', 'Product C', 'Product D']\n",
    "sales = [250, 450, 300, 400]\n",
    "\n",
    "# Create a bar chart for sales\n",
    "plt.bar(products, sales, color='skyblue')\n",
    "plt.title(\"Sales Analysis\")\n",
    "plt.xlabel(\"Products\")\n",
    "plt.ylabel(\"Sales\")\n",
    "plt.show()\n",
    "\n",
    "# Create a line plot to show sales trend over time\n",
    "time = [1, 2, 3, 4, 5]\n",
    "sales_trend = [200, 220, 250, 280, 300]\n",
    "plt.plot(time, sales_trend, marker='o', color='green')\n",
    "plt.title(\"Sales Trend Over Time\")\n",
    "plt.xlabel(\"Time\")\n",
    "plt.ylabel(\"Sales\")\n",
    "plt.grid(True)\n",
    "plt.show()\n",
    "    "
   ]
  },
  {
   "cell_type": "markdown",
   "id": "c7091036",
   "metadata": {},
   "source": [
    "\n",
    "### Exercise\n",
    "\n",
    "1. Create a bar chart comparing monthly sales for two regions.\n",
    "2. Plot a scatter plot showing the relationship between advertising spend and sales.\n",
    "3. Customize the visualizations to include titles, labels, and a legend.\n",
    "    "
   ]
  },
  {
   "cell_type": "markdown",
   "id": "e05a38eb",
   "metadata": {},
   "source": [
    "\n",
    "## Summary\n",
    "\n",
    "In this notebook, you learned about:\n",
    "\n",
    "- Creating basic visualizations: Line plots, bar charts, and scatter plots\n",
    "- Customizing visualizations with titles, labels, legends, and colors\n",
    "\n",
    "These skills are essential for visualizing data in data science.\n",
    "\n",
    "---\n",
    "\n",
    "### Final Exercise\n",
    "\n",
    "1. Create a visualization comparing test scores of students across subjects using a bar chart.\n",
    "2. Plot a line graph showing the growth of a company's revenue over the years.\n",
    "3. Create a scatter plot to explore the correlation between two variables (e.g., hours studied vs. exam score) and customize it.\n",
    "    "
   ]
  }
 ],
 "metadata": {},
 "nbformat": 4,
 "nbformat_minor": 5
}